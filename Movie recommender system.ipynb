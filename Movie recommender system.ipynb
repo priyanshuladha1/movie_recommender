{
 "cells": [
  {
   "cell_type": "code",
   "execution_count": 89,
   "id": "d9d78b29",
   "metadata": {},
   "outputs": [],
   "source": [
    "import numpy as np\n",
    "import pandas as pd\n",
    "import nltk"
   ]
  },
  {
   "cell_type": "code",
   "execution_count": 40,
   "id": "6199beac",
   "metadata": {},
   "outputs": [],
   "source": [
    "movies = pd.read_csv('tmdb_5000_movies.csv')\n",
    "credits = pd.read_csv('tmdb_5000_credits.csv')"
   ]
  },
  {
   "cell_type": "code",
   "execution_count": 41,
   "id": "bfe9ef42",
   "metadata": {},
   "outputs": [
    {
     "data": {
      "text/html": [
       "<div>\n",
       "<style scoped>\n",
       "    .dataframe tbody tr th:only-of-type {\n",
       "        vertical-align: middle;\n",
       "    }\n",
       "\n",
       "    .dataframe tbody tr th {\n",
       "        vertical-align: top;\n",
       "    }\n",
       "\n",
       "    .dataframe thead th {\n",
       "        text-align: right;\n",
       "    }\n",
       "</style>\n",
       "<table border=\"1\" class=\"dataframe\">\n",
       "  <thead>\n",
       "    <tr style=\"text-align: right;\">\n",
       "      <th></th>\n",
       "      <th>budget</th>\n",
       "      <th>genres</th>\n",
       "      <th>homepage</th>\n",
       "      <th>id</th>\n",
       "      <th>keywords</th>\n",
       "      <th>original_language</th>\n",
       "      <th>original_title</th>\n",
       "      <th>overview</th>\n",
       "      <th>popularity</th>\n",
       "      <th>production_companies</th>\n",
       "      <th>production_countries</th>\n",
       "      <th>release_date</th>\n",
       "      <th>revenue</th>\n",
       "      <th>runtime</th>\n",
       "      <th>spoken_languages</th>\n",
       "      <th>status</th>\n",
       "      <th>tagline</th>\n",
       "      <th>title</th>\n",
       "      <th>vote_average</th>\n",
       "      <th>vote_count</th>\n",
       "    </tr>\n",
       "  </thead>\n",
       "  <tbody>\n",
       "    <tr>\n",
       "      <th>0</th>\n",
       "      <td>237000000</td>\n",
       "      <td>[{\"id\": 28, \"name\": \"Action\"}, {\"id\": 12, \"nam...</td>\n",
       "      <td>http://www.avatarmovie.com/</td>\n",
       "      <td>19995</td>\n",
       "      <td>[{\"id\": 1463, \"name\": \"culture clash\"}, {\"id\":...</td>\n",
       "      <td>en</td>\n",
       "      <td>Avatar</td>\n",
       "      <td>In the 22nd century, a paraplegic Marine is di...</td>\n",
       "      <td>150.437577</td>\n",
       "      <td>[{\"name\": \"Ingenious Film Partners\", \"id\": 289...</td>\n",
       "      <td>[{\"iso_3166_1\": \"US\", \"name\": \"United States o...</td>\n",
       "      <td>2009-12-10</td>\n",
       "      <td>2787965087</td>\n",
       "      <td>162.0</td>\n",
       "      <td>[{\"iso_639_1\": \"en\", \"name\": \"English\"}, {\"iso...</td>\n",
       "      <td>Released</td>\n",
       "      <td>Enter the World of Pandora.</td>\n",
       "      <td>Avatar</td>\n",
       "      <td>7.2</td>\n",
       "      <td>11800</td>\n",
       "    </tr>\n",
       "  </tbody>\n",
       "</table>\n",
       "</div>"
      ],
      "text/plain": [
       "      budget                                             genres  \\\n",
       "0  237000000  [{\"id\": 28, \"name\": \"Action\"}, {\"id\": 12, \"nam...   \n",
       "\n",
       "                      homepage     id  \\\n",
       "0  http://www.avatarmovie.com/  19995   \n",
       "\n",
       "                                            keywords original_language  \\\n",
       "0  [{\"id\": 1463, \"name\": \"culture clash\"}, {\"id\":...                en   \n",
       "\n",
       "  original_title                                           overview  \\\n",
       "0         Avatar  In the 22nd century, a paraplegic Marine is di...   \n",
       "\n",
       "   popularity                               production_companies  \\\n",
       "0  150.437577  [{\"name\": \"Ingenious Film Partners\", \"id\": 289...   \n",
       "\n",
       "                                production_countries release_date     revenue  \\\n",
       "0  [{\"iso_3166_1\": \"US\", \"name\": \"United States o...   2009-12-10  2787965087   \n",
       "\n",
       "   runtime                                   spoken_languages    status  \\\n",
       "0    162.0  [{\"iso_639_1\": \"en\", \"name\": \"English\"}, {\"iso...  Released   \n",
       "\n",
       "                       tagline   title  vote_average  vote_count  \n",
       "0  Enter the World of Pandora.  Avatar           7.2       11800  "
      ]
     },
     "execution_count": 41,
     "metadata": {},
     "output_type": "execute_result"
    }
   ],
   "source": [
    "movies.head(1)"
   ]
  },
  {
   "cell_type": "code",
   "execution_count": 42,
   "id": "3316470d",
   "metadata": {},
   "outputs": [
    {
     "data": {
      "text/html": [
       "<div>\n",
       "<style scoped>\n",
       "    .dataframe tbody tr th:only-of-type {\n",
       "        vertical-align: middle;\n",
       "    }\n",
       "\n",
       "    .dataframe tbody tr th {\n",
       "        vertical-align: top;\n",
       "    }\n",
       "\n",
       "    .dataframe thead th {\n",
       "        text-align: right;\n",
       "    }\n",
       "</style>\n",
       "<table border=\"1\" class=\"dataframe\">\n",
       "  <thead>\n",
       "    <tr style=\"text-align: right;\">\n",
       "      <th></th>\n",
       "      <th>movie_id</th>\n",
       "      <th>title</th>\n",
       "      <th>cast</th>\n",
       "      <th>crew</th>\n",
       "    </tr>\n",
       "  </thead>\n",
       "  <tbody>\n",
       "    <tr>\n",
       "      <th>0</th>\n",
       "      <td>19995</td>\n",
       "      <td>Avatar</td>\n",
       "      <td>[{\"cast_id\": 242, \"character\": \"Jake Sully\", \"...</td>\n",
       "      <td>[{\"credit_id\": \"52fe48009251416c750aca23\", \"de...</td>\n",
       "    </tr>\n",
       "  </tbody>\n",
       "</table>\n",
       "</div>"
      ],
      "text/plain": [
       "   movie_id   title                                               cast  \\\n",
       "0     19995  Avatar  [{\"cast_id\": 242, \"character\": \"Jake Sully\", \"...   \n",
       "\n",
       "                                                crew  \n",
       "0  [{\"credit_id\": \"52fe48009251416c750aca23\", \"de...  "
      ]
     },
     "execution_count": 42,
     "metadata": {},
     "output_type": "execute_result"
    }
   ],
   "source": [
    "credits.head(1)"
   ]
  },
  {
   "cell_type": "code",
   "execution_count": 43,
   "id": "87b9d092",
   "metadata": {},
   "outputs": [],
   "source": [
    "movies = movies.merge(credits,on='title')"
   ]
  },
  {
   "cell_type": "code",
   "execution_count": 44,
   "id": "6ed3dcfb",
   "metadata": {},
   "outputs": [
    {
     "name": "stdout",
     "output_type": "stream",
     "text": [
      "<class 'pandas.core.frame.DataFrame'>\n",
      "Int64Index: 4809 entries, 0 to 4808\n",
      "Data columns (total 23 columns):\n",
      " #   Column                Non-Null Count  Dtype  \n",
      "---  ------                --------------  -----  \n",
      " 0   budget                4809 non-null   int64  \n",
      " 1   genres                4809 non-null   object \n",
      " 2   homepage              1713 non-null   object \n",
      " 3   id                    4809 non-null   int64  \n",
      " 4   keywords              4809 non-null   object \n",
      " 5   original_language     4809 non-null   object \n",
      " 6   original_title        4809 non-null   object \n",
      " 7   overview              4806 non-null   object \n",
      " 8   popularity            4809 non-null   float64\n",
      " 9   production_companies  4809 non-null   object \n",
      " 10  production_countries  4809 non-null   object \n",
      " 11  release_date          4808 non-null   object \n",
      " 12  revenue               4809 non-null   int64  \n",
      " 13  runtime               4807 non-null   float64\n",
      " 14  spoken_languages      4809 non-null   object \n",
      " 15  status                4809 non-null   object \n",
      " 16  tagline               3965 non-null   object \n",
      " 17  title                 4809 non-null   object \n",
      " 18  vote_average          4809 non-null   float64\n",
      " 19  vote_count            4809 non-null   int64  \n",
      " 20  movie_id              4809 non-null   int64  \n",
      " 21  cast                  4809 non-null   object \n",
      " 22  crew                  4809 non-null   object \n",
      "dtypes: float64(3), int64(5), object(15)\n",
      "memory usage: 901.7+ KB\n"
     ]
    }
   ],
   "source": [
    "movies.info()"
   ]
  },
  {
   "cell_type": "code",
   "execution_count": 45,
   "id": "3425559e",
   "metadata": {},
   "outputs": [],
   "source": [
    "#genres, id, keywords, title, overview, cast, crew(segregating the data/columns based on the data/columns we require)"
   ]
  },
  {
   "cell_type": "code",
   "execution_count": 46,
   "id": "66ad61a1",
   "metadata": {},
   "outputs": [],
   "source": [
    "movies = movies[['movie_id','title','overview','genres','keywords','cast','crew']]"
   ]
  },
  {
   "cell_type": "code",
   "execution_count": 47,
   "id": "6e6b52ca",
   "metadata": {},
   "outputs": [
    {
     "data": {
      "text/html": [
       "<div>\n",
       "<style scoped>\n",
       "    .dataframe tbody tr th:only-of-type {\n",
       "        vertical-align: middle;\n",
       "    }\n",
       "\n",
       "    .dataframe tbody tr th {\n",
       "        vertical-align: top;\n",
       "    }\n",
       "\n",
       "    .dataframe thead th {\n",
       "        text-align: right;\n",
       "    }\n",
       "</style>\n",
       "<table border=\"1\" class=\"dataframe\">\n",
       "  <thead>\n",
       "    <tr style=\"text-align: right;\">\n",
       "      <th></th>\n",
       "      <th>movie_id</th>\n",
       "      <th>title</th>\n",
       "      <th>overview</th>\n",
       "      <th>genres</th>\n",
       "      <th>keywords</th>\n",
       "      <th>cast</th>\n",
       "      <th>crew</th>\n",
       "    </tr>\n",
       "  </thead>\n",
       "  <tbody>\n",
       "    <tr>\n",
       "      <th>0</th>\n",
       "      <td>19995</td>\n",
       "      <td>Avatar</td>\n",
       "      <td>In the 22nd century, a paraplegic Marine is di...</td>\n",
       "      <td>[{\"id\": 28, \"name\": \"Action\"}, {\"id\": 12, \"nam...</td>\n",
       "      <td>[{\"id\": 1463, \"name\": \"culture clash\"}, {\"id\":...</td>\n",
       "      <td>[{\"cast_id\": 242, \"character\": \"Jake Sully\", \"...</td>\n",
       "      <td>[{\"credit_id\": \"52fe48009251416c750aca23\", \"de...</td>\n",
       "    </tr>\n",
       "  </tbody>\n",
       "</table>\n",
       "</div>"
      ],
      "text/plain": [
       "   movie_id   title                                           overview  \\\n",
       "0     19995  Avatar  In the 22nd century, a paraplegic Marine is di...   \n",
       "\n",
       "                                              genres  \\\n",
       "0  [{\"id\": 28, \"name\": \"Action\"}, {\"id\": 12, \"nam...   \n",
       "\n",
       "                                            keywords  \\\n",
       "0  [{\"id\": 1463, \"name\": \"culture clash\"}, {\"id\":...   \n",
       "\n",
       "                                                cast  \\\n",
       "0  [{\"cast_id\": 242, \"character\": \"Jake Sully\", \"...   \n",
       "\n",
       "                                                crew  \n",
       "0  [{\"credit_id\": \"52fe48009251416c750aca23\", \"de...  "
      ]
     },
     "execution_count": 47,
     "metadata": {},
     "output_type": "execute_result"
    }
   ],
   "source": [
    "movies.head(1)"
   ]
  },
  {
   "cell_type": "code",
   "execution_count": 48,
   "id": "e857fb1c",
   "metadata": {},
   "outputs": [
    {
     "data": {
      "text/plain": [
       "movie_id    0\n",
       "title       0\n",
       "overview    3\n",
       "genres      0\n",
       "keywords    0\n",
       "cast        0\n",
       "crew        0\n",
       "dtype: int64"
      ]
     },
     "execution_count": 48,
     "metadata": {},
     "output_type": "execute_result"
    }
   ],
   "source": [
    "movies.isnull().sum()"
   ]
  },
  {
   "cell_type": "code",
   "execution_count": 49,
   "id": "89bd06ec",
   "metadata": {},
   "outputs": [],
   "source": [
    "movies.dropna(inplace=True)"
   ]
  },
  {
   "cell_type": "code",
   "execution_count": 50,
   "id": "892e86dd",
   "metadata": {},
   "outputs": [
    {
     "data": {
      "text/plain": [
       "0"
      ]
     },
     "execution_count": 50,
     "metadata": {},
     "output_type": "execute_result"
    }
   ],
   "source": [
    " movies.duplicated().sum()"
   ]
  },
  {
   "cell_type": "code",
   "execution_count": 51,
   "id": "6587b4be",
   "metadata": {},
   "outputs": [
    {
     "data": {
      "text/plain": [
       "'[{\"id\": 28, \"name\": \"Action\"}, {\"id\": 12, \"name\": \"Adventure\"}, {\"id\": 14, \"name\": \"Fantasy\"}, {\"id\": 878, \"name\": \"Science Fiction\"}]'"
      ]
     },
     "execution_count": 51,
     "metadata": {},
     "output_type": "execute_result"
    }
   ],
   "source": [
    " movies.iloc[0].genres"
   ]
  },
  {
   "cell_type": "code",
   "execution_count": 52,
   "id": "41be3a72",
   "metadata": {},
   "outputs": [],
   "source": [
    "import ast\n",
    "def convert(obj):\n",
    "    l=[]\n",
    "    for i in ast.literal_eval(obj):\n",
    "        l.append(i['name'])\n",
    "    return l"
   ]
  },
  {
   "cell_type": "code",
   "execution_count": 53,
   "id": "57f5f8a2",
   "metadata": {},
   "outputs": [],
   "source": [
    "movies['genres'] = movies['genres'].apply(convert)"
   ]
  },
  {
   "cell_type": "code",
   "execution_count": 54,
   "id": "cf90d4bc",
   "metadata": {},
   "outputs": [
    {
     "data": {
      "text/html": [
       "<div>\n",
       "<style scoped>\n",
       "    .dataframe tbody tr th:only-of-type {\n",
       "        vertical-align: middle;\n",
       "    }\n",
       "\n",
       "    .dataframe tbody tr th {\n",
       "        vertical-align: top;\n",
       "    }\n",
       "\n",
       "    .dataframe thead th {\n",
       "        text-align: right;\n",
       "    }\n",
       "</style>\n",
       "<table border=\"1\" class=\"dataframe\">\n",
       "  <thead>\n",
       "    <tr style=\"text-align: right;\">\n",
       "      <th></th>\n",
       "      <th>movie_id</th>\n",
       "      <th>title</th>\n",
       "      <th>overview</th>\n",
       "      <th>genres</th>\n",
       "      <th>keywords</th>\n",
       "      <th>cast</th>\n",
       "      <th>crew</th>\n",
       "    </tr>\n",
       "  </thead>\n",
       "  <tbody>\n",
       "    <tr>\n",
       "      <th>0</th>\n",
       "      <td>19995</td>\n",
       "      <td>Avatar</td>\n",
       "      <td>In the 22nd century, a paraplegic Marine is di...</td>\n",
       "      <td>[Action, Adventure, Fantasy, Science Fiction]</td>\n",
       "      <td>[{\"id\": 1463, \"name\": \"culture clash\"}, {\"id\":...</td>\n",
       "      <td>[{\"cast_id\": 242, \"character\": \"Jake Sully\", \"...</td>\n",
       "      <td>[{\"credit_id\": \"52fe48009251416c750aca23\", \"de...</td>\n",
       "    </tr>\n",
       "    <tr>\n",
       "      <th>1</th>\n",
       "      <td>285</td>\n",
       "      <td>Pirates of the Caribbean: At World's End</td>\n",
       "      <td>Captain Barbossa, long believed to be dead, ha...</td>\n",
       "      <td>[Adventure, Fantasy, Action]</td>\n",
       "      <td>[{\"id\": 270, \"name\": \"ocean\"}, {\"id\": 726, \"na...</td>\n",
       "      <td>[{\"cast_id\": 4, \"character\": \"Captain Jack Spa...</td>\n",
       "      <td>[{\"credit_id\": \"52fe4232c3a36847f800b579\", \"de...</td>\n",
       "    </tr>\n",
       "    <tr>\n",
       "      <th>2</th>\n",
       "      <td>206647</td>\n",
       "      <td>Spectre</td>\n",
       "      <td>A cryptic message from Bond’s past sends him o...</td>\n",
       "      <td>[Action, Adventure, Crime]</td>\n",
       "      <td>[{\"id\": 470, \"name\": \"spy\"}, {\"id\": 818, \"name...</td>\n",
       "      <td>[{\"cast_id\": 1, \"character\": \"James Bond\", \"cr...</td>\n",
       "      <td>[{\"credit_id\": \"54805967c3a36829b5002c41\", \"de...</td>\n",
       "    </tr>\n",
       "    <tr>\n",
       "      <th>3</th>\n",
       "      <td>49026</td>\n",
       "      <td>The Dark Knight Rises</td>\n",
       "      <td>Following the death of District Attorney Harve...</td>\n",
       "      <td>[Action, Crime, Drama, Thriller]</td>\n",
       "      <td>[{\"id\": 849, \"name\": \"dc comics\"}, {\"id\": 853,...</td>\n",
       "      <td>[{\"cast_id\": 2, \"character\": \"Bruce Wayne / Ba...</td>\n",
       "      <td>[{\"credit_id\": \"52fe4781c3a36847f81398c3\", \"de...</td>\n",
       "    </tr>\n",
       "    <tr>\n",
       "      <th>4</th>\n",
       "      <td>49529</td>\n",
       "      <td>John Carter</td>\n",
       "      <td>John Carter is a war-weary, former military ca...</td>\n",
       "      <td>[Action, Adventure, Science Fiction]</td>\n",
       "      <td>[{\"id\": 818, \"name\": \"based on novel\"}, {\"id\":...</td>\n",
       "      <td>[{\"cast_id\": 5, \"character\": \"John Carter\", \"c...</td>\n",
       "      <td>[{\"credit_id\": \"52fe479ac3a36847f813eaa3\", \"de...</td>\n",
       "    </tr>\n",
       "  </tbody>\n",
       "</table>\n",
       "</div>"
      ],
      "text/plain": [
       "   movie_id                                     title  \\\n",
       "0     19995                                    Avatar   \n",
       "1       285  Pirates of the Caribbean: At World's End   \n",
       "2    206647                                   Spectre   \n",
       "3     49026                     The Dark Knight Rises   \n",
       "4     49529                               John Carter   \n",
       "\n",
       "                                            overview  \\\n",
       "0  In the 22nd century, a paraplegic Marine is di...   \n",
       "1  Captain Barbossa, long believed to be dead, ha...   \n",
       "2  A cryptic message from Bond’s past sends him o...   \n",
       "3  Following the death of District Attorney Harve...   \n",
       "4  John Carter is a war-weary, former military ca...   \n",
       "\n",
       "                                          genres  \\\n",
       "0  [Action, Adventure, Fantasy, Science Fiction]   \n",
       "1                   [Adventure, Fantasy, Action]   \n",
       "2                     [Action, Adventure, Crime]   \n",
       "3               [Action, Crime, Drama, Thriller]   \n",
       "4           [Action, Adventure, Science Fiction]   \n",
       "\n",
       "                                            keywords  \\\n",
       "0  [{\"id\": 1463, \"name\": \"culture clash\"}, {\"id\":...   \n",
       "1  [{\"id\": 270, \"name\": \"ocean\"}, {\"id\": 726, \"na...   \n",
       "2  [{\"id\": 470, \"name\": \"spy\"}, {\"id\": 818, \"name...   \n",
       "3  [{\"id\": 849, \"name\": \"dc comics\"}, {\"id\": 853,...   \n",
       "4  [{\"id\": 818, \"name\": \"based on novel\"}, {\"id\":...   \n",
       "\n",
       "                                                cast  \\\n",
       "0  [{\"cast_id\": 242, \"character\": \"Jake Sully\", \"...   \n",
       "1  [{\"cast_id\": 4, \"character\": \"Captain Jack Spa...   \n",
       "2  [{\"cast_id\": 1, \"character\": \"James Bond\", \"cr...   \n",
       "3  [{\"cast_id\": 2, \"character\": \"Bruce Wayne / Ba...   \n",
       "4  [{\"cast_id\": 5, \"character\": \"John Carter\", \"c...   \n",
       "\n",
       "                                                crew  \n",
       "0  [{\"credit_id\": \"52fe48009251416c750aca23\", \"de...  \n",
       "1  [{\"credit_id\": \"52fe4232c3a36847f800b579\", \"de...  \n",
       "2  [{\"credit_id\": \"54805967c3a36829b5002c41\", \"de...  \n",
       "3  [{\"credit_id\": \"52fe4781c3a36847f81398c3\", \"de...  \n",
       "4  [{\"credit_id\": \"52fe479ac3a36847f813eaa3\", \"de...  "
      ]
     },
     "execution_count": 54,
     "metadata": {},
     "output_type": "execute_result"
    }
   ],
   "source": [
    "movies.head()"
   ]
  },
  {
   "cell_type": "code",
   "execution_count": 55,
   "id": "8bb7b31a",
   "metadata": {},
   "outputs": [],
   "source": [
    "movies['keywords'] = movies['keywords'].apply(convert)"
   ]
  },
  {
   "cell_type": "code",
   "execution_count": 56,
   "id": "e3b501d2",
   "metadata": {},
   "outputs": [],
   "source": [
    " def convert1(obj):\n",
    "        l=[]\n",
    "        counter =0\n",
    "        for i in ast.literal_eval(obj):\n",
    "            if counter!=3:\n",
    "                l.append(i['name'])\n",
    "                counter+=1\n",
    "            else:\n",
    "                break\n",
    "        return l"
   ]
  },
  {
   "cell_type": "code",
   "execution_count": 57,
   "id": "f027446f",
   "metadata": {},
   "outputs": [
    {
     "data": {
      "text/plain": [
       "0        [Sam Worthington, Zoe Saldana, Sigourney Weaver]\n",
       "1           [Johnny Depp, Orlando Bloom, Keira Knightley]\n",
       "2            [Daniel Craig, Christoph Waltz, Léa Seydoux]\n",
       "3            [Christian Bale, Michael Caine, Gary Oldman]\n",
       "4          [Taylor Kitsch, Lynn Collins, Samantha Morton]\n",
       "                              ...                        \n",
       "4804    [Carlos Gallardo, Jaime de Hoyos, Peter Marqua...\n",
       "4805         [Edward Burns, Kerry Bishé, Marsha Dietlein]\n",
       "4806           [Eric Mabius, Kristin Booth, Crystal Lowe]\n",
       "4807            [Daniel Henney, Eliza Coupe, Bill Paxton]\n",
       "4808    [Drew Barrymore, Brian Herzlinger, Corey Feldman]\n",
       "Name: cast, Length: 4806, dtype: object"
      ]
     },
     "execution_count": 57,
     "metadata": {},
     "output_type": "execute_result"
    }
   ],
   "source": [
    "movies['cast'].apply(convert1)"
   ]
  },
  {
   "cell_type": "code",
   "execution_count": 58,
   "id": "bd2f0430",
   "metadata": {},
   "outputs": [],
   "source": [
    "def fetchdirector(obj):\n",
    "    l=[]\n",
    "    for i in ast.literal_eval(obj):\n",
    "        if i['job'] == 'Director':\n",
    "            l.append(i['name'])\n",
    "    return l"
   ]
  },
  {
   "cell_type": "code",
   "execution_count": 59,
   "id": "3b542fbc",
   "metadata": {},
   "outputs": [],
   "source": [
    "movies['crew'] = movies['crew'].apply(fetchdirector)"
   ]
  },
  {
   "cell_type": "code",
   "execution_count": 60,
   "id": "683f08b3",
   "metadata": {
    "scrolled": true
   },
   "outputs": [
    {
     "data": {
      "text/html": [
       "<div>\n",
       "<style scoped>\n",
       "    .dataframe tbody tr th:only-of-type {\n",
       "        vertical-align: middle;\n",
       "    }\n",
       "\n",
       "    .dataframe tbody tr th {\n",
       "        vertical-align: top;\n",
       "    }\n",
       "\n",
       "    .dataframe thead th {\n",
       "        text-align: right;\n",
       "    }\n",
       "</style>\n",
       "<table border=\"1\" class=\"dataframe\">\n",
       "  <thead>\n",
       "    <tr style=\"text-align: right;\">\n",
       "      <th></th>\n",
       "      <th>movie_id</th>\n",
       "      <th>title</th>\n",
       "      <th>overview</th>\n",
       "      <th>genres</th>\n",
       "      <th>keywords</th>\n",
       "      <th>cast</th>\n",
       "      <th>crew</th>\n",
       "    </tr>\n",
       "  </thead>\n",
       "  <tbody>\n",
       "    <tr>\n",
       "      <th>0</th>\n",
       "      <td>19995</td>\n",
       "      <td>Avatar</td>\n",
       "      <td>In the 22nd century, a paraplegic Marine is di...</td>\n",
       "      <td>[Action, Adventure, Fantasy, Science Fiction]</td>\n",
       "      <td>[culture clash, future, space war, space colon...</td>\n",
       "      <td>[{\"cast_id\": 242, \"character\": \"Jake Sully\", \"...</td>\n",
       "      <td>[James Cameron]</td>\n",
       "    </tr>\n",
       "    <tr>\n",
       "      <th>1</th>\n",
       "      <td>285</td>\n",
       "      <td>Pirates of the Caribbean: At World's End</td>\n",
       "      <td>Captain Barbossa, long believed to be dead, ha...</td>\n",
       "      <td>[Adventure, Fantasy, Action]</td>\n",
       "      <td>[ocean, drug abuse, exotic island, east india ...</td>\n",
       "      <td>[{\"cast_id\": 4, \"character\": \"Captain Jack Spa...</td>\n",
       "      <td>[Gore Verbinski]</td>\n",
       "    </tr>\n",
       "    <tr>\n",
       "      <th>2</th>\n",
       "      <td>206647</td>\n",
       "      <td>Spectre</td>\n",
       "      <td>A cryptic message from Bond’s past sends him o...</td>\n",
       "      <td>[Action, Adventure, Crime]</td>\n",
       "      <td>[spy, based on novel, secret agent, sequel, mi...</td>\n",
       "      <td>[{\"cast_id\": 1, \"character\": \"James Bond\", \"cr...</td>\n",
       "      <td>[Sam Mendes]</td>\n",
       "    </tr>\n",
       "    <tr>\n",
       "      <th>3</th>\n",
       "      <td>49026</td>\n",
       "      <td>The Dark Knight Rises</td>\n",
       "      <td>Following the death of District Attorney Harve...</td>\n",
       "      <td>[Action, Crime, Drama, Thriller]</td>\n",
       "      <td>[dc comics, crime fighter, terrorist, secret i...</td>\n",
       "      <td>[{\"cast_id\": 2, \"character\": \"Bruce Wayne / Ba...</td>\n",
       "      <td>[Christopher Nolan]</td>\n",
       "    </tr>\n",
       "    <tr>\n",
       "      <th>4</th>\n",
       "      <td>49529</td>\n",
       "      <td>John Carter</td>\n",
       "      <td>John Carter is a war-weary, former military ca...</td>\n",
       "      <td>[Action, Adventure, Science Fiction]</td>\n",
       "      <td>[based on novel, mars, medallion, space travel...</td>\n",
       "      <td>[{\"cast_id\": 5, \"character\": \"John Carter\", \"c...</td>\n",
       "      <td>[Andrew Stanton]</td>\n",
       "    </tr>\n",
       "  </tbody>\n",
       "</table>\n",
       "</div>"
      ],
      "text/plain": [
       "   movie_id                                     title  \\\n",
       "0     19995                                    Avatar   \n",
       "1       285  Pirates of the Caribbean: At World's End   \n",
       "2    206647                                   Spectre   \n",
       "3     49026                     The Dark Knight Rises   \n",
       "4     49529                               John Carter   \n",
       "\n",
       "                                            overview  \\\n",
       "0  In the 22nd century, a paraplegic Marine is di...   \n",
       "1  Captain Barbossa, long believed to be dead, ha...   \n",
       "2  A cryptic message from Bond’s past sends him o...   \n",
       "3  Following the death of District Attorney Harve...   \n",
       "4  John Carter is a war-weary, former military ca...   \n",
       "\n",
       "                                          genres  \\\n",
       "0  [Action, Adventure, Fantasy, Science Fiction]   \n",
       "1                   [Adventure, Fantasy, Action]   \n",
       "2                     [Action, Adventure, Crime]   \n",
       "3               [Action, Crime, Drama, Thriller]   \n",
       "4           [Action, Adventure, Science Fiction]   \n",
       "\n",
       "                                            keywords  \\\n",
       "0  [culture clash, future, space war, space colon...   \n",
       "1  [ocean, drug abuse, exotic island, east india ...   \n",
       "2  [spy, based on novel, secret agent, sequel, mi...   \n",
       "3  [dc comics, crime fighter, terrorist, secret i...   \n",
       "4  [based on novel, mars, medallion, space travel...   \n",
       "\n",
       "                                                cast                 crew  \n",
       "0  [{\"cast_id\": 242, \"character\": \"Jake Sully\", \"...      [James Cameron]  \n",
       "1  [{\"cast_id\": 4, \"character\": \"Captain Jack Spa...     [Gore Verbinski]  \n",
       "2  [{\"cast_id\": 1, \"character\": \"James Bond\", \"cr...         [Sam Mendes]  \n",
       "3  [{\"cast_id\": 2, \"character\": \"Bruce Wayne / Ba...  [Christopher Nolan]  \n",
       "4  [{\"cast_id\": 5, \"character\": \"John Carter\", \"c...     [Andrew Stanton]  "
      ]
     },
     "execution_count": 60,
     "metadata": {},
     "output_type": "execute_result"
    }
   ],
   "source": [
    "movies.head()"
   ]
  },
  {
   "cell_type": "code",
   "execution_count": 61,
   "id": "90c702f4",
   "metadata": {},
   "outputs": [
    {
     "data": {
      "text/plain": [
       "0       [In, the, 22nd, century,, a, paraplegic, Marin...\n",
       "1       [Captain, Barbossa,, long, believed, to, be, d...\n",
       "2       [A, cryptic, message, from, Bond’s, past, send...\n",
       "3       [Following, the, death, of, District, Attorney...\n",
       "4       [John, Carter, is, a, war-weary,, former, mili...\n",
       "                              ...                        \n",
       "4804    [El, Mariachi, just, wants, to, play, his, gui...\n",
       "4805    [A, newlywed, couple's, honeymoon, is, upended...\n",
       "4806    [\"Signed,, Sealed,, Delivered\", introduces, a,...\n",
       "4807    [When, ambitious, New, York, attorney, Sam, is...\n",
       "4808    [Ever, since, the, second, grade, when, he, fi...\n",
       "Name: overview, Length: 4806, dtype: object"
      ]
     },
     "execution_count": 61,
     "metadata": {},
     "output_type": "execute_result"
    }
   ],
   "source": [
    "movies['overview'].apply(lambda x:x.split())"
   ]
  },
  {
   "cell_type": "code",
   "execution_count": 62,
   "id": "32b0c5de",
   "metadata": {},
   "outputs": [],
   "source": [
    "movies['overview'] = movies['overview'].apply(lambda x:x.split())"
   ]
  },
  {
   "cell_type": "code",
   "execution_count": 63,
   "id": "616ade4c",
   "metadata": {
    "scrolled": true
   },
   "outputs": [
    {
     "data": {
      "text/html": [
       "<div>\n",
       "<style scoped>\n",
       "    .dataframe tbody tr th:only-of-type {\n",
       "        vertical-align: middle;\n",
       "    }\n",
       "\n",
       "    .dataframe tbody tr th {\n",
       "        vertical-align: top;\n",
       "    }\n",
       "\n",
       "    .dataframe thead th {\n",
       "        text-align: right;\n",
       "    }\n",
       "</style>\n",
       "<table border=\"1\" class=\"dataframe\">\n",
       "  <thead>\n",
       "    <tr style=\"text-align: right;\">\n",
       "      <th></th>\n",
       "      <th>movie_id</th>\n",
       "      <th>title</th>\n",
       "      <th>overview</th>\n",
       "      <th>genres</th>\n",
       "      <th>keywords</th>\n",
       "      <th>cast</th>\n",
       "      <th>crew</th>\n",
       "    </tr>\n",
       "  </thead>\n",
       "  <tbody>\n",
       "    <tr>\n",
       "      <th>0</th>\n",
       "      <td>19995</td>\n",
       "      <td>Avatar</td>\n",
       "      <td>[In, the, 22nd, century,, a, paraplegic, Marin...</td>\n",
       "      <td>[Action, Adventure, Fantasy, Science Fiction]</td>\n",
       "      <td>[culture clash, future, space war, space colon...</td>\n",
       "      <td>[{\"cast_id\": 242, \"character\": \"Jake Sully\", \"...</td>\n",
       "      <td>[James Cameron]</td>\n",
       "    </tr>\n",
       "    <tr>\n",
       "      <th>1</th>\n",
       "      <td>285</td>\n",
       "      <td>Pirates of the Caribbean: At World's End</td>\n",
       "      <td>[Captain, Barbossa,, long, believed, to, be, d...</td>\n",
       "      <td>[Adventure, Fantasy, Action]</td>\n",
       "      <td>[ocean, drug abuse, exotic island, east india ...</td>\n",
       "      <td>[{\"cast_id\": 4, \"character\": \"Captain Jack Spa...</td>\n",
       "      <td>[Gore Verbinski]</td>\n",
       "    </tr>\n",
       "    <tr>\n",
       "      <th>2</th>\n",
       "      <td>206647</td>\n",
       "      <td>Spectre</td>\n",
       "      <td>[A, cryptic, message, from, Bond’s, past, send...</td>\n",
       "      <td>[Action, Adventure, Crime]</td>\n",
       "      <td>[spy, based on novel, secret agent, sequel, mi...</td>\n",
       "      <td>[{\"cast_id\": 1, \"character\": \"James Bond\", \"cr...</td>\n",
       "      <td>[Sam Mendes]</td>\n",
       "    </tr>\n",
       "    <tr>\n",
       "      <th>3</th>\n",
       "      <td>49026</td>\n",
       "      <td>The Dark Knight Rises</td>\n",
       "      <td>[Following, the, death, of, District, Attorney...</td>\n",
       "      <td>[Action, Crime, Drama, Thriller]</td>\n",
       "      <td>[dc comics, crime fighter, terrorist, secret i...</td>\n",
       "      <td>[{\"cast_id\": 2, \"character\": \"Bruce Wayne / Ba...</td>\n",
       "      <td>[Christopher Nolan]</td>\n",
       "    </tr>\n",
       "    <tr>\n",
       "      <th>4</th>\n",
       "      <td>49529</td>\n",
       "      <td>John Carter</td>\n",
       "      <td>[John, Carter, is, a, war-weary,, former, mili...</td>\n",
       "      <td>[Action, Adventure, Science Fiction]</td>\n",
       "      <td>[based on novel, mars, medallion, space travel...</td>\n",
       "      <td>[{\"cast_id\": 5, \"character\": \"John Carter\", \"c...</td>\n",
       "      <td>[Andrew Stanton]</td>\n",
       "    </tr>\n",
       "  </tbody>\n",
       "</table>\n",
       "</div>"
      ],
      "text/plain": [
       "   movie_id                                     title  \\\n",
       "0     19995                                    Avatar   \n",
       "1       285  Pirates of the Caribbean: At World's End   \n",
       "2    206647                                   Spectre   \n",
       "3     49026                     The Dark Knight Rises   \n",
       "4     49529                               John Carter   \n",
       "\n",
       "                                            overview  \\\n",
       "0  [In, the, 22nd, century,, a, paraplegic, Marin...   \n",
       "1  [Captain, Barbossa,, long, believed, to, be, d...   \n",
       "2  [A, cryptic, message, from, Bond’s, past, send...   \n",
       "3  [Following, the, death, of, District, Attorney...   \n",
       "4  [John, Carter, is, a, war-weary,, former, mili...   \n",
       "\n",
       "                                          genres  \\\n",
       "0  [Action, Adventure, Fantasy, Science Fiction]   \n",
       "1                   [Adventure, Fantasy, Action]   \n",
       "2                     [Action, Adventure, Crime]   \n",
       "3               [Action, Crime, Drama, Thriller]   \n",
       "4           [Action, Adventure, Science Fiction]   \n",
       "\n",
       "                                            keywords  \\\n",
       "0  [culture clash, future, space war, space colon...   \n",
       "1  [ocean, drug abuse, exotic island, east india ...   \n",
       "2  [spy, based on novel, secret agent, sequel, mi...   \n",
       "3  [dc comics, crime fighter, terrorist, secret i...   \n",
       "4  [based on novel, mars, medallion, space travel...   \n",
       "\n",
       "                                                cast                 crew  \n",
       "0  [{\"cast_id\": 242, \"character\": \"Jake Sully\", \"...      [James Cameron]  \n",
       "1  [{\"cast_id\": 4, \"character\": \"Captain Jack Spa...     [Gore Verbinski]  \n",
       "2  [{\"cast_id\": 1, \"character\": \"James Bond\", \"cr...         [Sam Mendes]  \n",
       "3  [{\"cast_id\": 2, \"character\": \"Bruce Wayne / Ba...  [Christopher Nolan]  \n",
       "4  [{\"cast_id\": 5, \"character\": \"John Carter\", \"c...     [Andrew Stanton]  "
      ]
     },
     "execution_count": 63,
     "metadata": {},
     "output_type": "execute_result"
    }
   ],
   "source": [
    "movies.head()"
   ]
  },
  {
   "cell_type": "code",
   "execution_count": 66,
   "id": "ec031888",
   "metadata": {},
   "outputs": [],
   "source": [
    "movies['genres'] = movies['genres'].apply(lambda x:[i.replace(\" \",\"\") for i in x])\n",
    "movies['keywords'] = movies['keywords'].apply(lambda x:[i.replace(\" \",\"\") for i in x])\n",
    "movies['cast'] = movies['cast'].apply(lambda x:[i.replace(\" \",\"\") for i in x])\n",
    "movies['crew'] = movies['crew'].apply(lambda x:[i.replace(\" \",\"\") for i in x])"
   ]
  },
  {
   "cell_type": "code",
   "execution_count": 67,
   "id": "b9769066",
   "metadata": {},
   "outputs": [
    {
     "data": {
      "text/html": [
       "<div>\n",
       "<style scoped>\n",
       "    .dataframe tbody tr th:only-of-type {\n",
       "        vertical-align: middle;\n",
       "    }\n",
       "\n",
       "    .dataframe tbody tr th {\n",
       "        vertical-align: top;\n",
       "    }\n",
       "\n",
       "    .dataframe thead th {\n",
       "        text-align: right;\n",
       "    }\n",
       "</style>\n",
       "<table border=\"1\" class=\"dataframe\">\n",
       "  <thead>\n",
       "    <tr style=\"text-align: right;\">\n",
       "      <th></th>\n",
       "      <th>movie_id</th>\n",
       "      <th>title</th>\n",
       "      <th>overview</th>\n",
       "      <th>genres</th>\n",
       "      <th>keywords</th>\n",
       "      <th>cast</th>\n",
       "      <th>crew</th>\n",
       "    </tr>\n",
       "  </thead>\n",
       "  <tbody>\n",
       "    <tr>\n",
       "      <th>0</th>\n",
       "      <td>19995</td>\n",
       "      <td>Avatar</td>\n",
       "      <td>[In, the, 22nd, century,, a, paraplegic, Marin...</td>\n",
       "      <td>[Action, Adventure, Fantasy, ScienceFiction]</td>\n",
       "      <td>[cultureclash, future, spacewar, spacecolony, ...</td>\n",
       "      <td>[[, {, \", c, a, s, t, _, i, d, \", :, , 2, 4, 2...</td>\n",
       "      <td>[JamesCameron]</td>\n",
       "    </tr>\n",
       "    <tr>\n",
       "      <th>1</th>\n",
       "      <td>285</td>\n",
       "      <td>Pirates of the Caribbean: At World's End</td>\n",
       "      <td>[Captain, Barbossa,, long, believed, to, be, d...</td>\n",
       "      <td>[Adventure, Fantasy, Action]</td>\n",
       "      <td>[ocean, drugabuse, exoticisland, eastindiatrad...</td>\n",
       "      <td>[[, {, \", c, a, s, t, _, i, d, \", :, , 4, ,, ,...</td>\n",
       "      <td>[GoreVerbinski]</td>\n",
       "    </tr>\n",
       "    <tr>\n",
       "      <th>2</th>\n",
       "      <td>206647</td>\n",
       "      <td>Spectre</td>\n",
       "      <td>[A, cryptic, message, from, Bond’s, past, send...</td>\n",
       "      <td>[Action, Adventure, Crime]</td>\n",
       "      <td>[spy, basedonnovel, secretagent, sequel, mi6, ...</td>\n",
       "      <td>[[, {, \", c, a, s, t, _, i, d, \", :, , 1, ,, ,...</td>\n",
       "      <td>[SamMendes]</td>\n",
       "    </tr>\n",
       "    <tr>\n",
       "      <th>3</th>\n",
       "      <td>49026</td>\n",
       "      <td>The Dark Knight Rises</td>\n",
       "      <td>[Following, the, death, of, District, Attorney...</td>\n",
       "      <td>[Action, Crime, Drama, Thriller]</td>\n",
       "      <td>[dccomics, crimefighter, terrorist, secretiden...</td>\n",
       "      <td>[[, {, \", c, a, s, t, _, i, d, \", :, , 2, ,, ,...</td>\n",
       "      <td>[ChristopherNolan]</td>\n",
       "    </tr>\n",
       "    <tr>\n",
       "      <th>4</th>\n",
       "      <td>49529</td>\n",
       "      <td>John Carter</td>\n",
       "      <td>[John, Carter, is, a, war-weary,, former, mili...</td>\n",
       "      <td>[Action, Adventure, ScienceFiction]</td>\n",
       "      <td>[basedonnovel, mars, medallion, spacetravel, p...</td>\n",
       "      <td>[[, {, \", c, a, s, t, _, i, d, \", :, , 5, ,, ,...</td>\n",
       "      <td>[AndrewStanton]</td>\n",
       "    </tr>\n",
       "  </tbody>\n",
       "</table>\n",
       "</div>"
      ],
      "text/plain": [
       "   movie_id                                     title  \\\n",
       "0     19995                                    Avatar   \n",
       "1       285  Pirates of the Caribbean: At World's End   \n",
       "2    206647                                   Spectre   \n",
       "3     49026                     The Dark Knight Rises   \n",
       "4     49529                               John Carter   \n",
       "\n",
       "                                            overview  \\\n",
       "0  [In, the, 22nd, century,, a, paraplegic, Marin...   \n",
       "1  [Captain, Barbossa,, long, believed, to, be, d...   \n",
       "2  [A, cryptic, message, from, Bond’s, past, send...   \n",
       "3  [Following, the, death, of, District, Attorney...   \n",
       "4  [John, Carter, is, a, war-weary,, former, mili...   \n",
       "\n",
       "                                         genres  \\\n",
       "0  [Action, Adventure, Fantasy, ScienceFiction]   \n",
       "1                  [Adventure, Fantasy, Action]   \n",
       "2                    [Action, Adventure, Crime]   \n",
       "3              [Action, Crime, Drama, Thriller]   \n",
       "4           [Action, Adventure, ScienceFiction]   \n",
       "\n",
       "                                            keywords  \\\n",
       "0  [cultureclash, future, spacewar, spacecolony, ...   \n",
       "1  [ocean, drugabuse, exoticisland, eastindiatrad...   \n",
       "2  [spy, basedonnovel, secretagent, sequel, mi6, ...   \n",
       "3  [dccomics, crimefighter, terrorist, secretiden...   \n",
       "4  [basedonnovel, mars, medallion, spacetravel, p...   \n",
       "\n",
       "                                                cast                crew  \n",
       "0  [[, {, \", c, a, s, t, _, i, d, \", :, , 2, 4, 2...      [JamesCameron]  \n",
       "1  [[, {, \", c, a, s, t, _, i, d, \", :, , 4, ,, ,...     [GoreVerbinski]  \n",
       "2  [[, {, \", c, a, s, t, _, i, d, \", :, , 1, ,, ,...         [SamMendes]  \n",
       "3  [[, {, \", c, a, s, t, _, i, d, \", :, , 2, ,, ,...  [ChristopherNolan]  \n",
       "4  [[, {, \", c, a, s, t, _, i, d, \", :, , 5, ,, ,...     [AndrewStanton]  "
      ]
     },
     "execution_count": 67,
     "metadata": {},
     "output_type": "execute_result"
    }
   ],
   "source": [
    "movies.head()"
   ]
  },
  {
   "cell_type": "code",
   "execution_count": 68,
   "id": "d032489a",
   "metadata": {},
   "outputs": [],
   "source": [
    "movies['tags'] = movies['overview'] + movies['genres'] + movies['keywords'] + movies['cast'] + movies['crew']"
   ]
  },
  {
   "cell_type": "code",
   "execution_count": 69,
   "id": "e0baaffd",
   "metadata": {},
   "outputs": [
    {
     "data": {
      "text/html": [
       "<div>\n",
       "<style scoped>\n",
       "    .dataframe tbody tr th:only-of-type {\n",
       "        vertical-align: middle;\n",
       "    }\n",
       "\n",
       "    .dataframe tbody tr th {\n",
       "        vertical-align: top;\n",
       "    }\n",
       "\n",
       "    .dataframe thead th {\n",
       "        text-align: right;\n",
       "    }\n",
       "</style>\n",
       "<table border=\"1\" class=\"dataframe\">\n",
       "  <thead>\n",
       "    <tr style=\"text-align: right;\">\n",
       "      <th></th>\n",
       "      <th>movie_id</th>\n",
       "      <th>title</th>\n",
       "      <th>overview</th>\n",
       "      <th>genres</th>\n",
       "      <th>keywords</th>\n",
       "      <th>cast</th>\n",
       "      <th>crew</th>\n",
       "      <th>tags</th>\n",
       "    </tr>\n",
       "  </thead>\n",
       "  <tbody>\n",
       "    <tr>\n",
       "      <th>0</th>\n",
       "      <td>19995</td>\n",
       "      <td>Avatar</td>\n",
       "      <td>[In, the, 22nd, century,, a, paraplegic, Marin...</td>\n",
       "      <td>[Action, Adventure, Fantasy, ScienceFiction]</td>\n",
       "      <td>[cultureclash, future, spacewar, spacecolony, ...</td>\n",
       "      <td>[[, {, \", c, a, s, t, _, i, d, \", :, , 2, 4, 2...</td>\n",
       "      <td>[JamesCameron]</td>\n",
       "      <td>[In, the, 22nd, century,, a, paraplegic, Marin...</td>\n",
       "    </tr>\n",
       "    <tr>\n",
       "      <th>1</th>\n",
       "      <td>285</td>\n",
       "      <td>Pirates of the Caribbean: At World's End</td>\n",
       "      <td>[Captain, Barbossa,, long, believed, to, be, d...</td>\n",
       "      <td>[Adventure, Fantasy, Action]</td>\n",
       "      <td>[ocean, drugabuse, exoticisland, eastindiatrad...</td>\n",
       "      <td>[[, {, \", c, a, s, t, _, i, d, \", :, , 4, ,, ,...</td>\n",
       "      <td>[GoreVerbinski]</td>\n",
       "      <td>[Captain, Barbossa,, long, believed, to, be, d...</td>\n",
       "    </tr>\n",
       "    <tr>\n",
       "      <th>2</th>\n",
       "      <td>206647</td>\n",
       "      <td>Spectre</td>\n",
       "      <td>[A, cryptic, message, from, Bond’s, past, send...</td>\n",
       "      <td>[Action, Adventure, Crime]</td>\n",
       "      <td>[spy, basedonnovel, secretagent, sequel, mi6, ...</td>\n",
       "      <td>[[, {, \", c, a, s, t, _, i, d, \", :, , 1, ,, ,...</td>\n",
       "      <td>[SamMendes]</td>\n",
       "      <td>[A, cryptic, message, from, Bond’s, past, send...</td>\n",
       "    </tr>\n",
       "    <tr>\n",
       "      <th>3</th>\n",
       "      <td>49026</td>\n",
       "      <td>The Dark Knight Rises</td>\n",
       "      <td>[Following, the, death, of, District, Attorney...</td>\n",
       "      <td>[Action, Crime, Drama, Thriller]</td>\n",
       "      <td>[dccomics, crimefighter, terrorist, secretiden...</td>\n",
       "      <td>[[, {, \", c, a, s, t, _, i, d, \", :, , 2, ,, ,...</td>\n",
       "      <td>[ChristopherNolan]</td>\n",
       "      <td>[Following, the, death, of, District, Attorney...</td>\n",
       "    </tr>\n",
       "    <tr>\n",
       "      <th>4</th>\n",
       "      <td>49529</td>\n",
       "      <td>John Carter</td>\n",
       "      <td>[John, Carter, is, a, war-weary,, former, mili...</td>\n",
       "      <td>[Action, Adventure, ScienceFiction]</td>\n",
       "      <td>[basedonnovel, mars, medallion, spacetravel, p...</td>\n",
       "      <td>[[, {, \", c, a, s, t, _, i, d, \", :, , 5, ,, ,...</td>\n",
       "      <td>[AndrewStanton]</td>\n",
       "      <td>[John, Carter, is, a, war-weary,, former, mili...</td>\n",
       "    </tr>\n",
       "  </tbody>\n",
       "</table>\n",
       "</div>"
      ],
      "text/plain": [
       "   movie_id                                     title  \\\n",
       "0     19995                                    Avatar   \n",
       "1       285  Pirates of the Caribbean: At World's End   \n",
       "2    206647                                   Spectre   \n",
       "3     49026                     The Dark Knight Rises   \n",
       "4     49529                               John Carter   \n",
       "\n",
       "                                            overview  \\\n",
       "0  [In, the, 22nd, century,, a, paraplegic, Marin...   \n",
       "1  [Captain, Barbossa,, long, believed, to, be, d...   \n",
       "2  [A, cryptic, message, from, Bond’s, past, send...   \n",
       "3  [Following, the, death, of, District, Attorney...   \n",
       "4  [John, Carter, is, a, war-weary,, former, mili...   \n",
       "\n",
       "                                         genres  \\\n",
       "0  [Action, Adventure, Fantasy, ScienceFiction]   \n",
       "1                  [Adventure, Fantasy, Action]   \n",
       "2                    [Action, Adventure, Crime]   \n",
       "3              [Action, Crime, Drama, Thriller]   \n",
       "4           [Action, Adventure, ScienceFiction]   \n",
       "\n",
       "                                            keywords  \\\n",
       "0  [cultureclash, future, spacewar, spacecolony, ...   \n",
       "1  [ocean, drugabuse, exoticisland, eastindiatrad...   \n",
       "2  [spy, basedonnovel, secretagent, sequel, mi6, ...   \n",
       "3  [dccomics, crimefighter, terrorist, secretiden...   \n",
       "4  [basedonnovel, mars, medallion, spacetravel, p...   \n",
       "\n",
       "                                                cast                crew  \\\n",
       "0  [[, {, \", c, a, s, t, _, i, d, \", :, , 2, 4, 2...      [JamesCameron]   \n",
       "1  [[, {, \", c, a, s, t, _, i, d, \", :, , 4, ,, ,...     [GoreVerbinski]   \n",
       "2  [[, {, \", c, a, s, t, _, i, d, \", :, , 1, ,, ,...         [SamMendes]   \n",
       "3  [[, {, \", c, a, s, t, _, i, d, \", :, , 2, ,, ,...  [ChristopherNolan]   \n",
       "4  [[, {, \", c, a, s, t, _, i, d, \", :, , 5, ,, ,...     [AndrewStanton]   \n",
       "\n",
       "                                                tags  \n",
       "0  [In, the, 22nd, century,, a, paraplegic, Marin...  \n",
       "1  [Captain, Barbossa,, long, believed, to, be, d...  \n",
       "2  [A, cryptic, message, from, Bond’s, past, send...  \n",
       "3  [Following, the, death, of, District, Attorney...  \n",
       "4  [John, Carter, is, a, war-weary,, former, mili...  "
      ]
     },
     "execution_count": 69,
     "metadata": {},
     "output_type": "execute_result"
    }
   ],
   "source": [
    "movies.head()"
   ]
  },
  {
   "cell_type": "code",
   "execution_count": 72,
   "id": "70735858",
   "metadata": {},
   "outputs": [],
   "source": [
    "new_df = movies[['movie_id','title','tags']]"
   ]
  },
  {
   "cell_type": "code",
   "execution_count": 73,
   "id": "903587d4",
   "metadata": {},
   "outputs": [
    {
     "data": {
      "text/html": [
       "<div>\n",
       "<style scoped>\n",
       "    .dataframe tbody tr th:only-of-type {\n",
       "        vertical-align: middle;\n",
       "    }\n",
       "\n",
       "    .dataframe tbody tr th {\n",
       "        vertical-align: top;\n",
       "    }\n",
       "\n",
       "    .dataframe thead th {\n",
       "        text-align: right;\n",
       "    }\n",
       "</style>\n",
       "<table border=\"1\" class=\"dataframe\">\n",
       "  <thead>\n",
       "    <tr style=\"text-align: right;\">\n",
       "      <th></th>\n",
       "      <th>movie_id</th>\n",
       "      <th>title</th>\n",
       "      <th>tags</th>\n",
       "    </tr>\n",
       "  </thead>\n",
       "  <tbody>\n",
       "    <tr>\n",
       "      <th>0</th>\n",
       "      <td>19995</td>\n",
       "      <td>Avatar</td>\n",
       "      <td>[In, the, 22nd, century,, a, paraplegic, Marin...</td>\n",
       "    </tr>\n",
       "    <tr>\n",
       "      <th>1</th>\n",
       "      <td>285</td>\n",
       "      <td>Pirates of the Caribbean: At World's End</td>\n",
       "      <td>[Captain, Barbossa,, long, believed, to, be, d...</td>\n",
       "    </tr>\n",
       "    <tr>\n",
       "      <th>2</th>\n",
       "      <td>206647</td>\n",
       "      <td>Spectre</td>\n",
       "      <td>[A, cryptic, message, from, Bond’s, past, send...</td>\n",
       "    </tr>\n",
       "    <tr>\n",
       "      <th>3</th>\n",
       "      <td>49026</td>\n",
       "      <td>The Dark Knight Rises</td>\n",
       "      <td>[Following, the, death, of, District, Attorney...</td>\n",
       "    </tr>\n",
       "    <tr>\n",
       "      <th>4</th>\n",
       "      <td>49529</td>\n",
       "      <td>John Carter</td>\n",
       "      <td>[John, Carter, is, a, war-weary,, former, mili...</td>\n",
       "    </tr>\n",
       "    <tr>\n",
       "      <th>...</th>\n",
       "      <td>...</td>\n",
       "      <td>...</td>\n",
       "      <td>...</td>\n",
       "    </tr>\n",
       "    <tr>\n",
       "      <th>4804</th>\n",
       "      <td>9367</td>\n",
       "      <td>El Mariachi</td>\n",
       "      <td>[El, Mariachi, just, wants, to, play, his, gui...</td>\n",
       "    </tr>\n",
       "    <tr>\n",
       "      <th>4805</th>\n",
       "      <td>72766</td>\n",
       "      <td>Newlyweds</td>\n",
       "      <td>[A, newlywed, couple's, honeymoon, is, upended...</td>\n",
       "    </tr>\n",
       "    <tr>\n",
       "      <th>4806</th>\n",
       "      <td>231617</td>\n",
       "      <td>Signed, Sealed, Delivered</td>\n",
       "      <td>[\"Signed,, Sealed,, Delivered\", introduces, a,...</td>\n",
       "    </tr>\n",
       "    <tr>\n",
       "      <th>4807</th>\n",
       "      <td>126186</td>\n",
       "      <td>Shanghai Calling</td>\n",
       "      <td>[When, ambitious, New, York, attorney, Sam, is...</td>\n",
       "    </tr>\n",
       "    <tr>\n",
       "      <th>4808</th>\n",
       "      <td>25975</td>\n",
       "      <td>My Date with Drew</td>\n",
       "      <td>[Ever, since, the, second, grade, when, he, fi...</td>\n",
       "    </tr>\n",
       "  </tbody>\n",
       "</table>\n",
       "<p>4806 rows × 3 columns</p>\n",
       "</div>"
      ],
      "text/plain": [
       "      movie_id                                     title  \\\n",
       "0        19995                                    Avatar   \n",
       "1          285  Pirates of the Caribbean: At World's End   \n",
       "2       206647                                   Spectre   \n",
       "3        49026                     The Dark Knight Rises   \n",
       "4        49529                               John Carter   \n",
       "...        ...                                       ...   \n",
       "4804      9367                               El Mariachi   \n",
       "4805     72766                                 Newlyweds   \n",
       "4806    231617                 Signed, Sealed, Delivered   \n",
       "4807    126186                          Shanghai Calling   \n",
       "4808     25975                         My Date with Drew   \n",
       "\n",
       "                                                   tags  \n",
       "0     [In, the, 22nd, century,, a, paraplegic, Marin...  \n",
       "1     [Captain, Barbossa,, long, believed, to, be, d...  \n",
       "2     [A, cryptic, message, from, Bond’s, past, send...  \n",
       "3     [Following, the, death, of, District, Attorney...  \n",
       "4     [John, Carter, is, a, war-weary,, former, mili...  \n",
       "...                                                 ...  \n",
       "4804  [El, Mariachi, just, wants, to, play, his, gui...  \n",
       "4805  [A, newlywed, couple's, honeymoon, is, upended...  \n",
       "4806  [\"Signed,, Sealed,, Delivered\", introduces, a,...  \n",
       "4807  [When, ambitious, New, York, attorney, Sam, is...  \n",
       "4808  [Ever, since, the, second, grade, when, he, fi...  \n",
       "\n",
       "[4806 rows x 3 columns]"
      ]
     },
     "execution_count": 73,
     "metadata": {},
     "output_type": "execute_result"
    }
   ],
   "source": [
    "new_df"
   ]
  },
  {
   "cell_type": "code",
   "execution_count": 74,
   "id": "5d2f7615",
   "metadata": {},
   "outputs": [
    {
     "name": "stderr",
     "output_type": "stream",
     "text": [
      "C:\\Users\\KIIT\\AppData\\Local\\Temp\\ipykernel_15244\\3089450492.py:1: SettingWithCopyWarning: \n",
      "A value is trying to be set on a copy of a slice from a DataFrame.\n",
      "Try using .loc[row_indexer,col_indexer] = value instead\n",
      "\n",
      "See the caveats in the documentation: https://pandas.pydata.org/pandas-docs/stable/user_guide/indexing.html#returning-a-view-versus-a-copy\n",
      "  new_df['tags'] = new_df['tags'].apply(lambda x:\" \".join(x))\n"
     ]
    }
   ],
   "source": [
    "new_df['tags'] = new_df['tags'].apply(lambda x:\" \".join(x))"
   ]
  },
  {
   "cell_type": "code",
   "execution_count": 75,
   "id": "2b655502",
   "metadata": {},
   "outputs": [
    {
     "data": {
      "text/html": [
       "<div>\n",
       "<style scoped>\n",
       "    .dataframe tbody tr th:only-of-type {\n",
       "        vertical-align: middle;\n",
       "    }\n",
       "\n",
       "    .dataframe tbody tr th {\n",
       "        vertical-align: top;\n",
       "    }\n",
       "\n",
       "    .dataframe thead th {\n",
       "        text-align: right;\n",
       "    }\n",
       "</style>\n",
       "<table border=\"1\" class=\"dataframe\">\n",
       "  <thead>\n",
       "    <tr style=\"text-align: right;\">\n",
       "      <th></th>\n",
       "      <th>movie_id</th>\n",
       "      <th>title</th>\n",
       "      <th>tags</th>\n",
       "    </tr>\n",
       "  </thead>\n",
       "  <tbody>\n",
       "    <tr>\n",
       "      <th>0</th>\n",
       "      <td>19995</td>\n",
       "      <td>Avatar</td>\n",
       "      <td>In the 22nd century, a paraplegic Marine is di...</td>\n",
       "    </tr>\n",
       "    <tr>\n",
       "      <th>1</th>\n",
       "      <td>285</td>\n",
       "      <td>Pirates of the Caribbean: At World's End</td>\n",
       "      <td>Captain Barbossa, long believed to be dead, ha...</td>\n",
       "    </tr>\n",
       "    <tr>\n",
       "      <th>2</th>\n",
       "      <td>206647</td>\n",
       "      <td>Spectre</td>\n",
       "      <td>A cryptic message from Bond’s past sends him o...</td>\n",
       "    </tr>\n",
       "    <tr>\n",
       "      <th>3</th>\n",
       "      <td>49026</td>\n",
       "      <td>The Dark Knight Rises</td>\n",
       "      <td>Following the death of District Attorney Harve...</td>\n",
       "    </tr>\n",
       "    <tr>\n",
       "      <th>4</th>\n",
       "      <td>49529</td>\n",
       "      <td>John Carter</td>\n",
       "      <td>John Carter is a war-weary, former military ca...</td>\n",
       "    </tr>\n",
       "  </tbody>\n",
       "</table>\n",
       "</div>"
      ],
      "text/plain": [
       "   movie_id                                     title  \\\n",
       "0     19995                                    Avatar   \n",
       "1       285  Pirates of the Caribbean: At World's End   \n",
       "2    206647                                   Spectre   \n",
       "3     49026                     The Dark Knight Rises   \n",
       "4     49529                               John Carter   \n",
       "\n",
       "                                                tags  \n",
       "0  In the 22nd century, a paraplegic Marine is di...  \n",
       "1  Captain Barbossa, long believed to be dead, ha...  \n",
       "2  A cryptic message from Bond’s past sends him o...  \n",
       "3  Following the death of District Attorney Harve...  \n",
       "4  John Carter is a war-weary, former military ca...  "
      ]
     },
     "execution_count": 75,
     "metadata": {},
     "output_type": "execute_result"
    }
   ],
   "source": [
    "new_df.head()"
   ]
  },
  {
   "cell_type": "code",
   "execution_count": 76,
   "id": "1f13a90b",
   "metadata": {},
   "outputs": [
    {
     "data": {
      "text/plain": [
       "'In the 22nd century, a paraplegic Marine is dispatched to the moon Pandora on a unique mission, but becomes torn between following orders and protecting an alien civilization. Action Adventure Fantasy ScienceFiction cultureclash future spacewar spacecolony society spacetravel futuristic romance space alien tribe alienplanet cgi marine soldier battle loveaffair antiwar powerrelations mindandsoul 3d [ { \" c a s t _ i d \" :  2 4 2 ,  \" c h a r a c t e r \" :  \" J a k e  S u l l y \" ,  \" c r e d i t _ i d \" :  \" 5 6 0 2 a 8 a 7 c 3 a 3 6 8 5 5 3 2 0 0 1 c 9 a \" ,  \" g e n d e r \" :  2 ,  \" i d \" :  6 5 7 3 1 ,  \" n a m e \" :  \" S a m  W o r t h i n g t o n \" ,  \" o r d e r \" :  0 } ,  { \" c a s t _ i d \" :  3 ,  \" c h a r a c t e r \" :  \" N e y t i r i \" ,  \" c r e d i t _ i d \" :  \" 5 2 f e 4 8 0 0 9 2 5 1 4 1 6 c 7 5 0 a c 9 c b \" ,  \" g e n d e r \" :  1 ,  \" i d \" :  8 6 9 1 ,  \" n a m e \" :  \" Z o e  S a l d a n a \" ,  \" o r d e r \" :  1 } ,  { \" c a s t _ i d \" :  2 5 ,  \" c h a r a c t e r \" :  \" D r .  G r a c e  A u g u s t i n e \" ,  \" c r e d i t _ i d \" :  \" 5 2 f e 4 8 0 0 9 2 5 1 4 1 6 c 7 5 0 a c a 3 9 \" ,  \" g e n d e r \" :  1 ,  \" i d \" :  1 0 2 0 5 ,  \" n a m e \" :  \" S i g o u r n e y  W e a v e r \" ,  \" o r d e r \" :  2 } ,  { \" c a s t _ i d \" :  4 ,  \" c h a r a c t e r \" :  \" C o l .  Q u a r i t c h \" ,  \" c r e d i t _ i d \" :  \" 5 2 f e 4 8 0 0 9 2 5 1 4 1 6 c 7 5 0 a c 9 c f \" ,  \" g e n d e r \" :  2 ,  \" i d \" :  3 2 7 4 7 ,  \" n a m e \" :  \" S t e p h e n  L a n g \" ,  \" o r d e r \" :  3 } ,  { \" c a s t _ i d \" :  5 ,  \" c h a r a c t e r \" :  \" T r u d y  C h a c o n \" ,  \" c r e d i t _ i d \" :  \" 5 2 f e 4 8 0 0 9 2 5 1 4 1 6 c 7 5 0 a c 9 d 3 \" ,  \" g e n d e r \" :  1 ,  \" i d \" :  1 7 6 4 7 ,  \" n a m e \" :  \" M i c h e l l e  R o d r i g u e z \" ,  \" o r d e r \" :  4 } ,  { \" c a s t _ i d \" :  8 ,  \" c h a r a c t e r \" :  \" S e l f r i d g e \" ,  \" c r e d i t _ i d \" :  \" 5 2 f e 4 8 0 0 9 2 5 1 4 1 6 c 7 5 0 a c 9 e 1 \" ,  \" g e n d e r \" :  2 ,  \" i d \" :  1 7 7 1 ,  \" n a m e \" :  \" G i o v a n n i  R i b i s i \" ,  \" o r d e r \" :  5 } ,  { \" c a s t _ i d \" :  7 ,  \" c h a r a c t e r \" :  \" N o r m  S p e l l m a n \" ,  \" c r e d i t _ i d \" :  \" 5 2 f e 4 8 0 0 9 2 5 1 4 1 6 c 7 5 0 a c 9 d d \" ,  \" g e n d e r \" :  2 ,  \" i d \" :  5 9 2 3 1 ,  \" n a m e \" :  \" J o e l  D a v i d  M o o r e \" ,  \" o r d e r \" :  6 } ,  { \" c a s t _ i d \" :  9 ,  \" c h a r a c t e r \" :  \" M o a t \" ,  \" c r e d i t _ i d \" :  \" 5 2 f e 4 8 0 0 9 2 5 1 4 1 6 c 7 5 0 a c 9 e 5 \" ,  \" g e n d e r \" :  1 ,  \" i d \" :  3 0 4 8 5 ,  \" n a m e \" :  \" C C H  P o u n d e r \" ,  \" o r d e r \" :  7 } ,  { \" c a s t _ i d \" :  1 1 ,  \" c h a r a c t e r \" :  \" E y t u k a n \" ,  \" c r e d i t _ i d \" :  \" 5 2 f e 4 8 0 0 9 2 5 1 4 1 6 c 7 5 0 a c 9 e d \" ,  \" g e n d e r \" :  2 ,  \" i d \" :  1 5 8 5 3 ,  \" n a m e \" :  \" W e s  S t u d i \" ,  \" o r d e r \" :  8 } ,  { \" c a s t _ i d \" :  1 0 ,  \" c h a r a c t e r \" :  \" T s u \\' T e y \" ,  \" c r e d i t _ i d \" :  \" 5 2 f e 4 8 0 0 9 2 5 1 4 1 6 c 7 5 0 a c 9 e 9 \" ,  \" g e n d e r \" :  2 ,  \" i d \" :  1 0 9 6 4 ,  \" n a m e \" :  \" L a z  A l o n s o \" ,  \" o r d e r \" :  9 } ,  { \" c a s t _ i d \" :  1 2 ,  \" c h a r a c t e r \" :  \" D r .  M a x  P a t e l \" ,  \" c r e d i t _ i d \" :  \" 5 2 f e 4 8 0 0 9 2 5 1 4 1 6 c 7 5 0 a c 9 f 1 \" ,  \" g e n d e r \" :  2 ,  \" i d \" :  9 5 6 9 7 ,  \" n a m e \" :  \" D i l e e p  R a o \" ,  \" o r d e r \" :  1 0 } ,  { \" c a s t _ i d \" :  1 3 ,  \" c h a r a c t e r \" :  \" L y l e  W a i n f l e e t \" ,  \" c r e d i t _ i d \" :  \" 5 2 f e 4 8 0 0 9 2 5 1 4 1 6 c 7 5 0 a c 9 f 5 \" ,  \" g e n d e r \" :  2 ,  \" i d \" :  9 8 2 1 5 ,  \" n a m e \" :  \" M a t t  G e r a l d \" ,  \" o r d e r \" :  1 1 } ,  { \" c a s t _ i d \" :  3 2 ,  \" c h a r a c t e r \" :  \" P r i v a t e  F i k e \" ,  \" c r e d i t _ i d \" :  \" 5 2 f e 4 8 0 0 9 2 5 1 4 1 6 c 7 5 0 a c a 5 b \" ,  \" g e n d e r \" :  2 ,  \" i d \" :  1 5 4 1 5 3 ,  \" n a m e \" :  \" S e a n  A n t h o n y  M o r a n \" ,  \" o r d e r \" :  1 2 } ,  { \" c a s t _ i d \" :  3 3 ,  \" c h a r a c t e r \" :  \" C r y o  V a u l t  M e d  T e c h \" ,  \" c r e d i t _ i d \" :  \" 5 2 f e 4 8 0 0 9 2 5 1 4 1 6 c 7 5 0 a c a 5 f \" ,  \" g e n d e r \" :  2 ,  \" i d \" :  3 9 7 3 1 2 ,  \" n a m e \" :  \" J a s o n  W h y t e \" ,  \" o r d e r \" :  1 3 } ,  { \" c a s t _ i d \" :  3 4 ,  \" c h a r a c t e r \" :  \" V e n t u r e  S t a r  C r e w  C h i e f \" ,  \" c r e d i t _ i d \" :  \" 5 2 f e 4 8 0 0 9 2 5 1 4 1 6 c 7 5 0 a c a 6 3 \" ,  \" g e n d e r \" :  2 ,  \" i d \" :  4 2 3 1 7 ,  \" n a m e \" :  \" S c o t t  L a w r e n c e \" ,  \" o r d e r \" :  1 4 } ,  { \" c a s t _ i d \" :  3 5 ,  \" c h a r a c t e r \" :  \" L o c k  U p  T r o o p e r \" ,  \" c r e d i t _ i d \" :  \" 5 2 f e 4 8 0 0 9 2 5 1 4 1 6 c 7 5 0 a c a 6 7 \" ,  \" g e n d e r \" :  2 ,  \" i d \" :  9 8 6 7 3 4 ,  \" n a m e \" :  \" K e l l y  K i l g o u r \" ,  \" o r d e r \" :  1 5 } ,  { \" c a s t _ i d \" :  3 6 ,  \" c h a r a c t e r \" :  \" S h u t t l e  P i l o t \" ,  \" c r e d i t _ i d \" :  \" 5 2 f e 4 8 0 0 9 2 5 1 4 1 6 c 7 5 0 a c a 6 b \" ,  \" g e n d e r \" :  0 ,  \" i d \" :  1 2 0 7 2 2 7 ,  \" n a m e \" :  \" J a m e s  P a t r i c k  P i t t \" ,  \" o r d e r \" :  1 6 } ,  { \" c a s t _ i d \" :  3 7 ,  \" c h a r a c t e r \" :  \" S h u t t l e  C o - P i l o t \" ,  \" c r e d i t _ i d \" :  \" 5 2 f e 4 8 0 0 9 2 5 1 4 1 6 c 7 5 0 a c a 6 f \" ,  \" g e n d e r \" :  0 ,  \" i d \" :  1 1 8 0 9 3 6 ,  \" n a m e \" :  \" S e a n  P a t r i c k  M u r p h y \" ,  \" o r d e r \" :  1 7 } ,  { \" c a s t _ i d \" :  3 8 ,  \" c h a r a c t e r \" :  \" S h u t t l e  C r e w  C h i e f \" ,  \" c r e d i t _ i d \" :  \" 5 2 f e 4 8 0 0 9 2 5 1 4 1 6 c 7 5 0 a c a 7 3 \" ,  \" g e n d e r \" :  2 ,  \" i d \" :  1 0 1 9 5 7 8 ,  \" n a m e \" :  \" P e t e r  D i l l o n \" ,  \" o r d e r \" :  1 8 } ,  { \" c a s t _ i d \" :  3 9 ,  \" c h a r a c t e r \" :  \" T r a c t o r  O p e r a t o r  /  T r o u p e \" ,  \" c r e d i t _ i d \" :  \" 5 2 f e 4 8 0 0 9 2 5 1 4 1 6 c 7 5 0 a c a 7 7 \" ,  \" g e n d e r \" :  0 ,  \" i d \" :  9 1 4 4 3 ,  \" n a m e \" :  \" K e v i n  D o r m a n \" ,  \" o r d e r \" :  1 9 } ,  { \" c a s t _ i d \" :  4 0 ,  \" c h a r a c t e r \" :  \" D r a g o n  G u n s h i p  P i l o t \" ,  \" c r e d i t _ i d \" :  \" 5 2 f e 4 8 0 0 9 2 5 1 4 1 6 c 7 5 0 a c a 7 b \" ,  \" g e n d e r \" :  2 ,  \" i d \" :  1 7 3 3 9 1 ,  \" n a m e \" :  \" K e l s o n  H e n d e r s o n \" ,  \" o r d e r \" :  2 0 } ,  { \" c a s t _ i d \" :  4 1 ,  \" c h a r a c t e r \" :  \" D r a g o n  G u n s h i p  G u n n e r \" ,  \" c r e d i t _ i d \" :  \" 5 2 f e 4 8 0 0 9 2 5 1 4 1 6 c 7 5 0 a c a 7 f \" ,  \" g e n d e r \" :  0 ,  \" i d \" :  1 2 0 7 2 3 6 ,  \" n a m e \" :  \" D a v i d  V a n  H o r n \" ,  \" o r d e r \" :  2 1 } ,  { \" c a s t _ i d \" :  4 2 ,  \" c h a r a c t e r \" :  \" D r a g o n  G u n s h i p  N a v i g a t o r \" ,  \" c r e d i t _ i d \" :  \" 5 2 f e 4 8 0 0 9 2 5 1 4 1 6 c 7 5 0 a c a 8 3 \" ,  \" g e n d e r \" :  0 ,  \" i d \" :  2 1 5 9 1 3 ,  \" n a m e \" :  \" J a c o b  T o m u r i \" ,  \" o r d e r \" :  2 2 } ,  { \" c a s t _ i d \" :  4 3 ,  \" c h a r a c t e r \" :  \" S u i t  # 1 \" ,  \" c r e d i t _ i d \" :  \" 5 2 f e 4 8 0 0 9 2 5 1 4 1 6 c 7 5 0 a c a 8 7 \" ,  \" g e n d e r \" :  0 ,  \" i d \" :  1 4 3 2 0 6 ,  \" n a m e \" :  \" M i c h a e l  B l a i n - R o z g a y \" ,  \" o r d e r \" :  2 3 } ,  { \" c a s t _ i d \" :  4 4 ,  \" c h a r a c t e r \" :  \" S u i t  # 2 \" ,  \" c r e d i t _ i d \" :  \" 5 2 f e 4 8 0 0 9 2 5 1 4 1 6 c 7 5 0 a c a 8 b \" ,  \" g e n d e r \" :  2 ,  \" i d \" :  1 6 9 6 7 6 ,  \" n a m e \" :  \" J o n  C u r r y \" ,  \" o r d e r \" :  2 4 } ,  { \" c a s t _ i d \" :  4 6 ,  \" c h a r a c t e r \" :  \" A m b i e n t  R o o m  T e c h \" ,  \" c r e d i t _ i d \" :  \" 5 2 f e 4 8 0 0 9 2 5 1 4 1 6 c 7 5 0 a c a 8 f \" ,  \" g e n d e r \" :  0 ,  \" i d \" :  1 0 4 8 6 1 0 ,  \" n a m e \" :  \" L u k e  H a w k e r \" ,  \" o r d e r \" :  2 5 } ,  { \" c a s t _ i d \" :  4 7 ,  \" c h a r a c t e r \" :  \" A m b i e n t  R o o m  T e c h  /  T r o u p e \" ,  \" c r e d i t _ i d \" :  \" 5 2 f e 4 8 0 0 9 2 5 1 4 1 6 c 7 5 0 a c a 9 3 \" ,  \" g e n d e r \" :  0 ,  \" i d \" :  4 2 2 8 8 ,  \" n a m e \" :  \" W o o d y  S c h u l t z \" ,  \" o r d e r \" :  2 6 } ,  { \" c a s t _ i d \" :  4 8 ,  \" c h a r a c t e r \" :  \" H o r s e  C l a n  L e a d e r \" ,  \" c r e d i t _ i d \" :  \" 5 2 f e 4 8 0 0 9 2 5 1 4 1 6 c 7 5 0 a c a 9 7 \" ,  \" g e n d e r \" :  2 ,  \" i d \" :  6 8 2 7 8 ,  \" n a m e \" :  \" P e t e r  M e n s a h \" ,  \" o r d e r \" :  2 7 } ,  { \" c a s t _ i d \" :  4 9 ,  \" c h a r a c t e r \" :  \" L i n k  R o o m  T e c h \" ,  \" c r e d i t _ i d \" :  \" 5 2 f e 4 8 0 0 9 2 5 1 4 1 6 c 7 5 0 a c a 9 b \" ,  \" g e n d e r \" :  0 ,  \" i d \" :  1 2 0 7 2 4 7 ,  \" n a m e \" :  \" S o n i a  Y e e \" ,  \" o r d e r \" :  2 8 } ,  { \" c a s t _ i d \" :  5 0 ,  \" c h a r a c t e r \" :  \" B a s k e t b a l l  A v a t a r  /  T r o u p e \" ,  \" c r e d i t _ i d \" :  \" 5 2 f e 4 8 0 0 9 2 5 1 4 1 6 c 7 5 0 a c a 9 f \" ,  \" g e n d e r \" :  1 ,  \" i d \" :  1 2 0 7 2 4 8 ,  \" n a m e \" :  \" J a h n e l  C u r f m a n \" ,  \" o r d e r \" :  2 9 } ,  { \" c a s t _ i d \" :  5 1 ,  \" c h a r a c t e r \" :  \" B a s k e t b a l l  A v a t a r \" ,  \" c r e d i t _ i d \" :  \" 5 2 f e 4 8 0 0 9 2 5 1 4 1 6 c 7 5 0 a c a a 3 \" ,  \" g e n d e r \" :  0 ,  \" i d \" :  8 9 7 1 4 ,  \" n a m e \" :  \" I l r a m  C h o i \" ,  \" o r d e r \" :  3 0 } ,  { \" c a s t _ i d \" :  5 2 ,  \" c h a r a c t e r \" :  \" N a \\' v i  C h i l d \" ,  \" c r e d i t _ i d \" :  \" 5 2 f e 4 8 0 0 9 2 5 1 4 1 6 c 7 5 0 a c a a 7 \" ,  \" g e n d e r \" :  0 ,  \" i d \" :  1 2 0 7 2 4 9 ,  \" n a m e \" :  \" K y l a  W a r r e n \" ,  \" o r d e r \" :  3 1 } ,  { \" c a s t _ i d \" :  5 3 ,  \" c h a r a c t e r \" :  \" T r o u p e \" ,  \" c r e d i t _ i d \" :  \" 5 2 f e 4 8 0 0 9 2 5 1 4 1 6 c 7 5 0 a c a a b \" ,  \" g e n d e r \" :  0 ,  \" i d \" :  1 2 0 7 2 5 0 ,  \" n a m e \" :  \" L i s a  R o u m a i n \" ,  \" o r d e r \" :  3 2 } ,  { \" c a s t _ i d \" :  5 4 ,  \" c h a r a c t e r \" :  \" T r o u p e \" ,  \" c r e d i t _ i d \" :  \" 5 2 f e 4 8 0 0 9 2 5 1 4 1 6 c 7 5 0 a c a a f \" ,  \" g e n d e r \" :  1 ,  \" i d \" :  8 3 1 0 5 ,  \" n a m e \" :  \" D e b r a  W i l s o n \" ,  \" o r d e r \" :  3 3 } ,  { \" c a s t _ i d \" :  5 7 ,  \" c h a r a c t e r \" :  \" T r o u p e \" ,  \" c r e d i t _ i d \" :  \" 5 2 f e 4 8 0 0 9 2 5 1 4 1 6 c 7 5 0 a c a b b \" ,  \" g e n d e r \" :  0 ,  \" i d \" :  1 2 0 7 2 5 3 ,  \" n a m e \" :  \" C h r i s  M a l a \" ,  \" o r d e r \" :  3 4 } ,  { \" c a s t _ i d \" :  5 5 ,  \" c h a r a c t e r \" :  \" T r o u p e \" ,  \" c r e d i t _ i d \" :  \" 5 2 f e 4 8 0 0 9 2 5 1 4 1 6 c 7 5 0 a c a b 3 \" ,  \" g e n d e r \" :  0 ,  \" i d \" :  1 2 0 7 2 5 1 ,  \" n a m e \" :  \" T a y l o r  K i b b y \" ,  \" o r d e r \" :  3 5 } ,  { \" c a s t _ i d \" :  5 6 ,  \" c h a r a c t e r \" :  \" T r o u p e \" ,  \" c r e d i t _ i d \" :  \" 5 2 f e 4 8 0 0 9 2 5 1 4 1 6 c 7 5 0 a c a b 7 \" ,  \" g e n d e r \" :  0 ,  \" i d \" :  1 2 0 7 2 5 2 ,  \" n a m e \" :  \" J o d i e  L a n d a u \" ,  \" o r d e r \" :  3 6 } ,  { \" c a s t _ i d \" :  5 8 ,  \" c h a r a c t e r \" :  \" T r o u p e \" ,  \" c r e d i t _ i d \" :  \" 5 2 f e 4 8 0 0 9 2 5 1 4 1 6 c 7 5 0 a c a b f \" ,  \" g e n d e r \" :  0 ,  \" i d \" :  1 2 0 7 2 5 4 ,  \" n a m e \" :  \" J u l i e  L a m m \" ,  \" o r d e r \" :  3 7 } ,  { \" c a s t _ i d \" :  5 9 ,  \" c h a r a c t e r \" :  \" T r o u p e \" ,  \" c r e d i t _ i d \" :  \" 5 2 f e 4 8 0 0 9 2 5 1 4 1 6 c 7 5 0 a c a c 3 \" ,  \" g e n d e r \" :  0 ,  \" i d \" :  1 2 0 7 2 5 7 ,  \" n a m e \" :  \" C u l l e n  B .  M a d d e n \" ,  \" o r d e r \" :  3 8 } ,  { \" c a s t _ i d \" :  6 0 ,  \" c h a r a c t e r \" :  \" T r o u p e \" ,  \" c r e d i t _ i d \" :  \" 5 2 f e 4 8 0 0 9 2 5 1 4 1 6 c 7 5 0 a c a c 7 \" ,  \" g e n d e r \" :  0 ,  \" i d \" :  1 2 0 7 2 5 9 ,  \" n a m e \" :  \" J o s e p h  B r a d y  M a d d e n \" ,  \" o r d e r \" :  3 9 } ,  { \" c a s t _ i d \" :  6 1 ,  \" c h a r a c t e r \" :  \" T r o u p e \" ,  \" c r e d i t _ i d \" :  \" 5 2 f e 4 8 0 0 9 2 5 1 4 1 6 c 7 5 0 a c a c b \" ,  \" g e n d e r \" :  0 ,  \" i d \" :  1 2 0 7 2 6 2 ,  \" n a m e \" :  \" F r a n k i e  T o r r e s \" ,  \" o r d e r \" :  4 0 } ,  { \" c a s t _ i d \" :  6 2 ,  \" c h a r a c t e r \" :  \" T r o u p e \" ,  \" c r e d i t _ i d \" :  \" 5 2 f e 4 8 0 0 9 2 5 1 4 1 6 c 7 5 0 a c a c f \" ,  \" g e n d e r \" :  1 ,  \" i d \" :  1 1 5 8 6 0 0 ,  \" n a m e \" :  \" A u s t i n  W i l s o n \" ,  \" o r d e r \" :  4 1 } ,  { \" c a s t _ i d \" :  6 3 ,  \" c h a r a c t e r \" :  \" T r o u p e \" ,  \" c r e d i t _ i d \" :  \" 5 2 f e 4 8 0 1 9 2 5 1 4 1 6 c 7 5 0 a c a d 3 \" ,  \" g e n d e r \" :  1 ,  \" i d \" :  9 8 3 7 0 5 ,  \" n a m e \" :  \" S a r a  W i l s o n \" ,  \" o r d e r \" :  4 2 } ,  { \" c a s t _ i d \" :  6 4 ,  \" c h a r a c t e r \" :  \" T r o u p e \" ,  \" c r e d i t _ i d \" :  \" 5 2 f e 4 8 0 1 9 2 5 1 4 1 6 c 7 5 0 a c a d 7 \" ,  \" g e n d e r \" :  0 ,  \" i d \" :  1 2 0 7 2 6 3 ,  \" n a m e \" :  \" T a m i c a  W a s h i n g t o n - M i l l e r \" ,  \" o r d e r \" :  4 3 } ,  { \" c a s t _ i d \" :  6 5 ,  \" c h a r a c t e r \" :  \" O p  C e n t e r  S t a f f \" ,  \" c r e d i t _ i d \" :  \" 5 2 f e 4 8 0 1 9 2 5 1 4 1 6 c 7 5 0 a c a d b \" ,  \" g e n d e r \" :  1 ,  \" i d \" :  1 1 4 5 0 9 8 ,  \" n a m e \" :  \" L u c y  B r i a n t \" ,  \" o r d e r \" :  4 4 } ,  { \" c a s t _ i d \" :  6 6 ,  \" c h a r a c t e r \" :  \" O p  C e n t e r  S t a f f \" ,  \" c r e d i t _ i d \" :  \" 5 2 f e 4 8 0 1 9 2 5 1 4 1 6 c 7 5 0 a c a d f \" ,  \" g e n d e r \" :  2 ,  \" i d \" :  3 3 3 0 5 ,  \" n a m e \" :  \" N a t h a n  M e i s t e r \" ,  \" o r d e r \" :  4 5 } ,  { \" c a s t _ i d \" :  6 7 ,  \" c h a r a c t e r \" :  \" O p  C e n t e r  S t a f f \" ,  \" c r e d i t _ i d \" :  \" 5 2 f e 4 8 0 1 9 2 5 1 4 1 6 c 7 5 0 a c a e 3 \" ,  \" g e n d e r \" :  0 ,  \" i d \" :  1 2 0 7 2 6 4 ,  \" n a m e \" :  \" G e r r y  B l a i r \" ,  \" o r d e r \" :  4 6 } ,  { \" c a s t _ i d \" :  6 8 ,  \" c h a r a c t e r \" :  \" O p  C e n t e r  S t a f f \" ,  \" c r e d i t _ i d \" :  \" 5 2 f e 4 8 0 1 9 2 5 1 4 1 6 c 7 5 0 a c a e 7 \" ,  \" g e n d e r \" :  2 ,  \" i d \" :  3 3 3 1 1 ,  \" n a m e \" :  \" M a t t h e w  C h a m b e r l a i n \" ,  \" o r d e r \" :  4 7 } ,  { \" c a s t _ i d \" :  6 9 ,  \" c h a r a c t e r \" :  \" O p  C e n t e r  S t a f f \" ,  \" c r e d i t _ i d \" :  \" 5 2 f e 4 8 0 1 9 2 5 1 4 1 6 c 7 5 0 a c a e b \" ,  \" g e n d e r \" :  0 ,  \" i d \" :  1 2 0 7 2 6 5 ,  \" n a m e \" :  \" P a u l  Y a t e s \" ,  \" o r d e r \" :  4 8 } ,  { \" c a s t _ i d \" :  7 0 ,  \" c h a r a c t e r \" :  \" O p  C e n t e r  D u t y  O f f i c e r \" ,  \" c r e d i t _ i d \" :  \" 5 2 f e 4 8 0 1 9 2 5 1 4 1 6 c 7 5 0 a c a e f \" ,  \" g e n d e r \" :  0 ,  \" i d \" :  1 2 0 7 2 6 6 ,  \" n a m e \" :  \" W r a y  W i l s o n \" ,  \" o r d e r \" :  4 9 } ,  { \" c a s t _ i d \" :  7 1 ,  \" c h a r a c t e r \" :  \" O p  C e n t e r  S t a f f \" ,  \" c r e d i t _ i d \" :  \" 5 2 f e 4 8 0 1 9 2 5 1 4 1 6 c 7 5 0 a c a f 3 \" ,  \" g e n d e r \" :  2 ,  \" i d \" :  5 4 4 9 2 ,  \" n a m e \" :  \" J a m e s  G a y l y n \" ,  \" o r d e r \" :  5 0 } ,  { \" c a s t _ i d \" :  7 2 ,  \" c h a r a c t e r \" :  \" D a n c e r \" ,  \" c r e d i t _ i d \" :  \" 5 2 f e 4 8 0 1 9 2 5 1 4 1 6 c 7 5 0 a c a f 7 \" ,  \" g e n d e r \" :  0 ,  \" i d \" :  1 2 0 7 2 6 7 ,  \" n a m e \" :  \" M e l v i n  L e n o  C l a r k  I I I \" ,  \" o r d e r \" :  5 1 } ,  { \" c a s t _ i d \" :  7 3 ,  \" c h a r a c t e r \" :  \" D a n c e r \" ,  \" c r e d i t _ i d \" :  \" 5 2 f e 4 8 0 1 9 2 5 1 4 1 6 c 7 5 0 a c a f b \" ,  \" g e n d e r \" :  0 ,  \" i d \" :  1 2 0 7 2 6 8 ,  \" n a m e \" :  \" C a r v o n  F u t r e l l \" ,  \" o r d e r \" :  5 2 } ,  { \" c a s t _ i d \" :  7 4 ,  \" c h a r a c t e r \" :  \" D a n c e r \" ,  \" c r e d i t _ i d \" :  \" 5 2 f e 4 8 0 1 9 2 5 1 4 1 6 c 7 5 0 a c a f f \" ,  \" g e n d e r \" :  0 ,  \" i d \" :  1 2 0 7 2 6 9 ,  \" n a m e \" :  \" B r a n d o n  J e l k e s \" ,  \" o r d e r \" :  5 3 } ,  { \" c a s t _ i d \" :  7 5 ,  \" c h a r a c t e r \" :  \" D a n c e r \" ,  \" c r e d i t _ i d \" :  \" 5 2 f e 4 8 0 1 9 2 5 1 4 1 6 c 7 5 0 a c b 0 3 \" ,  \" g e n d e r \" :  0 ,  \" i d \" :  1 2 0 7 2 7 0 ,  \" n a m e \" :  \" M i c a h  M o c h \" ,  \" o r d e r \" :  5 4 } ,  { \" c a s t _ i d \" :  7 6 ,  \" c h a r a c t e r \" :  \" D a n c e r \" ,  \" c r e d i t _ i d \" :  \" 5 2 f e 4 8 0 1 9 2 5 1 4 1 6 c 7 5 0 a c b 0 7 \" ,  \" g e n d e r \" :  0 ,  \" i d \" :  1 2 0 7 2 7 1 ,  \" n a m e \" :  \" H a n n i y a h  M u h a m m a d \" ,  \" o r d e r \" :  5 5 } ,  { \" c a s t _ i d \" :  7 7 ,  \" c h a r a c t e r \" :  \" D a n c e r \" ,  \" c r e d i t _ i d \" :  \" 5 2 f e 4 8 0 1 9 2 5 1 4 1 6 c 7 5 0 a c b 0 b \" ,  \" g e n d e r \" :  0 ,  \" i d \" :  1 2 0 7 2 7 2 ,  \" n a m e \" :  \" C h r i s t o p h e r  N o l e n \" ,  \" o r d e r \" :  5 6 } ,  { \" c a s t _ i d \" :  7 8 ,  \" c h a r a c t e r \" :  \" D a n c e r \" ,  \" c r e d i t _ i d \" :  \" 5 2 f e 4 8 0 1 9 2 5 1 4 1 6 c 7 5 0 a c b 0 f \" ,  \" g e n d e r \" :  0 ,  \" i d \" :  1 2 0 7 2 7 3 ,  \" n a m e \" :  \" C h r i s t a  O l i v e r \" ,  \" o r d e r \" :  5 7 } ,  { \" c a s t _ i d \" :  7 9 ,  \" c h a r a c t e r \" :  \" D a n c e r \" ,  \" c r e d i t _ i d \" :  \" 5 2 f e 4 8 0 1 9 2 5 1 4 1 6 c 7 5 0 a c b 1 3 \" ,  \" g e n d e r \" :  0 ,  \" i d \" :  1 2 0 7 2 7 4 ,  \" n a m e \" :  \" A p r i l  M a r i e  T h o m a s \" ,  \" o r d e r \" :  5 8 } ,  { \" c a s t _ i d \" :  8 0 ,  \" c h a r a c t e r \" :  \" D a n c e r \" ,  \" c r e d i t _ i d \" :  \" 5 2 f e 4 8 0 1 9 2 5 1 4 1 6 c 7 5 0 a c b 1 7 \" ,  \" g e n d e r \" :  0 ,  \" i d \" :  1 2 0 7 2 7 5 ,  \" n a m e \" :  \" B r a v i t a  A .  T h r e a t t \" ,  \" o r d e r \" :  5 9 } ,  { \" c a s t _ i d \" :  8 1 ,  \" c h a r a c t e r \" :  \" M i n i n g  C h i e f  ( u n c r e d i t e d ) \" ,  \" c r e d i t _ i d \" :  \" 5 2 f e 4 8 0 1 9 2 5 1 4 1 6 c 7 5 0 a c b 1 b \" ,  \" g e n d e r \" :  0 ,  \" i d \" :  1 2 0 7 2 7 6 ,  \" n a m e \" :  \" C o l i n  B l e a s d a l e \" ,  \" o r d e r \" :  6 0 } ,  { \" c a s t _ i d \" :  8 2 ,  \" c h a r a c t e r \" :  \" V e t e r a n  M i n e r  ( u n c r e d i t e d ) \" ,  \" c r e d i t _ i d \" :  \" 5 2 f e 4 8 0 1 9 2 5 1 4 1 6 c 7 5 0 a c b 1 f \" ,  \" g e n d e r \" :  0 ,  \" i d \" :  1 0 7 9 6 9 ,  \" n a m e \" :  \" M i k e  B o d n a r \" ,  \" o r d e r \" :  6 1 } ,  { \" c a s t _ i d \" :  8 3 ,  \" c h a r a c t e r \" :  \" R i c h a r d  ( u n c r e d i t e d ) \" ,  \" c r e d i t _ i d \" :  \" 5 2 f e 4 8 0 1 9 2 5 1 4 1 6 c 7 5 0 a c b 2 3 \" ,  \" g e n d e r \" :  0 ,  \" i d \" :  1 2 0 7 2 7 8 ,  \" n a m e \" :  \" M a t t  C l a y t o n \" ,  \" o r d e r \" :  6 2 } ,  { \" c a s t _ i d \" :  8 4 ,  \" c h a r a c t e r \" :  \" N a v \\' i  ( u n c r e d i t e d ) \" ,  \" c r e d i t _ i d \" :  \" 5 2 f e 4 8 0 1 9 2 5 1 4 1 6 c 7 5 0 a c b 2 7 \" ,  \" g e n d e r \" :  1 ,  \" i d \" :  1 4 7 8 9 8 ,  \" n a m e \" :  \" N i c o l e  D i o n n e \" ,  \" o r d e r \" :  6 3 } ,  { \" c a s t _ i d \" :  8 5 ,  \" c h a r a c t e r \" :  \" T r o o p e r  ( u n c r e d i t e d ) \" ,  \" c r e d i t _ i d \" :  \" 5 2 f e 4 8 0 1 9 2 5 1 4 1 6 c 7 5 0 a c b 2 b \" ,  \" g e n d e r \" :  0 ,  \" i d \" :  1 2 0 7 2 8 0 ,  \" n a m e \" :  \" J a m i e  H a r r i s o n \" ,  \" o r d e r \" :  6 4 } ,  { \" c a s t _ i d \" :  8 6 ,  \" c h a r a c t e r \" :  \" T r o o p e r  ( u n c r e d i t e d ) \" ,  \" c r e d i t _ i d \" :  \" 5 2 f e 4 8 0 1 9 2 5 1 4 1 6 c 7 5 0 a c b 2 f \" ,  \" g e n d e r \" :  0 ,  \" i d \" :  1 2 0 7 2 8 1 ,  \" n a m e \" :  \" A l l a n  H e n r y \" ,  \" o r d e r \" :  6 5 } ,  { \" c a s t _ i d \" :  8 7 ,  \" c h a r a c t e r \" :  \" G r o u n d  T e c h n i c i a n  ( u n c r e d i t e d ) \" ,  \" c r e d i t _ i d \" :  \" 5 2 f e 4 8 0 1 9 2 5 1 4 1 6 c 7 5 0 a c b 3 3 \" ,  \" g e n d e r \" :  2 ,  \" i d \" :  1 2 0 7 2 8 2 ,  \" n a m e \" :  \" A n t h o n y  I n g r u b e r \" ,  \" o r d e r \" :  6 6 } ,  { \" c a s t _ i d \" :  8 8 ,  \" c h a r a c t e r \" :  \" F l i g h t  C r e w  M e c h a n i c  ( u n c r e d i t e d ) \" ,  \" c r e d i t _ i d \" :  \" 5 2 f e 4 8 0 1 9 2 5 1 4 1 6 c 7 5 0 a c b 3 7 \" ,  \" g e n d e r \" :  0 ,  \" i d \" :  1 2 0 7 2 8 3 ,  \" n a m e \" :  \" A s h l e y  J e f f e r y \" ,  \" o r d e r \" :  6 7 } ,  { \" c a s t _ i d \" :  1 4 ,  \" c h a r a c t e r \" :  \" S a m s o n  P i l o t \" ,  \" c r e d i t _ i d \" :  \" 5 2 f e 4 8 0 0 9 2 5 1 4 1 6 c 7 5 0 a c 9 f 9 \" ,  \" g e n d e r \" :  0 ,  \" i d \" :  9 8 2 1 6 ,  \" n a m e \" :  \" D e a n  K n o w s l e y \" ,  \" o r d e r \" :  6 8 } ,  { \" c a s t _ i d \" :  8 9 ,  \" c h a r a c t e r \" :  \" T r o o p e r  ( u n c r e d i t e d ) \" ,  \" c r e d i t _ i d \" :  \" 5 2 f e 4 8 0 1 9 2 5 1 4 1 6 c 7 5 0 a c b 3 b \" ,  \" g e n d e r \" :  0 ,  \" i d \" :  1 2 0 1 3 9 9 ,  \" n a m e \" :  \" J o s e p h  M i k a - H u n t \" ,  \" o r d e r \" :  6 9 } ,  { \" c a s t _ i d \" :  9 0 ,  \" c h a r a c t e r \" :  \" B a n s h e e  ( u n c r e d i t e d ) \" ,  \" c r e d i t _ i d \" :  \" 5 2 f e 4 8 0 1 9 2 5 1 4 1 6 c 7 5 0 a c b 3 f \" ,  \" g e n d e r \" :  0 ,  \" i d \" :  2 3 6 6 9 6 ,  \" n a m e \" :  \" T e r r y  N o t a r y \" ,  \" o r d e r \" :  7 0 } ,  { \" c a s t _ i d \" :  9 1 ,  \" c h a r a c t e r \" :  \" S o l d i e r  ( u n c r e d i t e d ) \" ,  \" c r e d i t _ i d \" :  \" 5 2 f e 4 8 0 1 9 2 5 1 4 1 6 c 7 5 0 a c b 4 3 \" ,  \" g e n d e r \" :  0 ,  \" i d \" :  1 2 0 7 2 8 7 ,  \" n a m e \" :  \" K a i  P a n t a n o \" ,  \" o r d e r \" :  7 1 } ,  { \" c a s t _ i d \" :  9 2 ,  \" c h a r a c t e r \" :  \" B l a s t  T e c h n i c i a n  ( u n c r e d i t e d ) \" ,  \" c r e d i t _ i d \" :  \" 5 2 f e 4 8 0 1 9 2 5 1 4 1 6 c 7 5 0 a c b 4 7 \" ,  \" g e n d e r \" :  0 ,  \" i d \" :  1 2 0 7 2 8 8 ,  \" n a m e \" :  \" L o g a n  P i t h y o u \" ,  \" o r d e r \" :  7 2 } ,  { \" c a s t _ i d \" :  9 3 ,  \" c h a r a c t e r \" :  \" V i n d u m  R a a h  ( u n c r e d i t e d ) \" ,  \" c r e d i t _ i d \" :  \" 5 2 f e 4 8 0 1 9 2 5 1 4 1 6 c 7 5 0 a c b 4 b \" ,  \" g e n d e r \" :  0 ,  \" i d \" :  1 2 0 7 2 8 9 ,  \" n a m e \" :  \" S t u a r t  P o l l o c k \" ,  \" o r d e r \" :  7 3 } ,  { \" c a s t _ i d \" :  9 4 ,  \" c h a r a c t e r \" :  \" H e r o  ( u n c r e d i t e d ) \" ,  \" c r e d i t _ i d \" :  \" 5 2 f e 4 8 0 1 9 2 5 1 4 1 6 c 7 5 0 a c b 4 f \" ,  \" g e n d e r \" :  0 ,  \" i d \" :  5 8 4 8 6 8 ,  \" n a m e \" :  \" R a j a \" ,  \" o r d e r \" :  7 4 } ,  { \" c a s t _ i d \" :  9 5 ,  \" c h a r a c t e r \" :  \" O p s  C e n t r e w o r k e r  ( u n c r e d i t e d ) \" ,  \" c r e d i t _ i d \" :  \" 5 2 f e 4 8 0 1 9 2 5 1 4 1 6 c 7 5 0 a c b 5 3 \" ,  \" g e n d e r \" :  0 ,  \" i d \" :  1 2 0 7 2 9 0 ,  \" n a m e \" :  \" G a r e t h  R u c k \" ,  \" o r d e r \" :  7 5 } ,  { \" c a s t _ i d \" :  9 6 ,  \" c h a r a c t e r \" :  \" E n g i n e e r  ( u n c r e d i t e d ) \" ,  \" c r e d i t _ i d \" :  \" 5 2 f e 4 8 0 1 9 2 5 1 4 1 6 c 7 5 0 a c b 5 7 \" ,  \" g e n d e r \" :  0 ,  \" i d \" :  1 0 6 2 4 6 3 ,  \" n a m e \" :  \" R h i a n  S h e e h a n \" ,  \" o r d e r \" :  7 6 } ,  { \" c a s t _ i d \" :  9 7 ,  \" c h a r a c t e r \" :  \" C o l .  Q u a r i t c h \\' s  M e c h  S u i t  ( u n c r e d i t e d ) \" ,  \" c r e d i t _ i d \" :  \" 5 2 f e 4 8 0 1 9 2 5 1 4 1 6 c 7 5 0 a c b 5 b \" ,  \" g e n d e r \" :  0 ,  \" i d \" :  6 0 6 5 6 ,  \" n a m e \" :  \" T .  J .  S t o r m \" ,  \" o r d e r \" :  7 7 } ,  { \" c a s t _ i d \" :  9 8 ,  \" c h a r a c t e r \" :  \" F e m a l e  M a r i n e  ( u n c r e d i t e d ) \" ,  \" c r e d i t _ i d \" :  \" 5 2 f e 4 8 0 1 9 2 5 1 4 1 6 c 7 5 0 a c b 5 f \" ,  \" g e n d e r \" :  0 ,  \" i d \" :  1 2 0 7 2 9 1 ,  \" n a m e \" :  \" J o d i e  T a y l o r \" ,  \" o r d e r \" :  7 8 } ,  { \" c a s t _ i d \" :  9 9 ,  \" c h a r a c t e r \" :  \" I k r a n  C l a n  L e a d e r  ( u n c r e d i t e d ) \" ,  \" c r e d i t _ i d \" :  \" 5 2 f e 4 8 0 1 9 2 5 1 4 1 6 c 7 5 0 a c b 6 3 \" ,  \" g e n d e r \" :  1 ,  \" i d \" :  1 1 8 6 0 2 7 ,  \" n a m e \" :  \" A l i c i a  V e l a - B a i l e y \" ,  \" o r d e r \" :  7 9 } ,  { \" c a s t _ i d \" :  1 0 0 ,  \" c h a r a c t e r \" :  \" G e o l o g i s t  ( u n c r e d i t e d ) \" ,  \" c r e d i t _ i d \" :  \" 5 2 f e 4 8 0 1 9 2 5 1 4 1 6 c 7 5 0 a c b 6 7 \" ,  \" g e n d e r \" :  0 ,  \" i d \" :  1 2 0 7 2 9 2 ,  \" n a m e \" :  \" R i c h a r d  W h i t e s i d e \" ,  \" o r d e r \" :  8 0 } ,  { \" c a s t _ i d \" :  1 0 1 ,  \" c h a r a c t e r \" :  \" N a \\' v i  ( u n c r e d i t e d ) \" ,  \" c r e d i t _ i d \" :  \" 5 2 f e 4 8 0 1 9 2 5 1 4 1 6 c 7 5 0 a c b 6 b \" ,  \" g e n d e r \" :  0 ,  \" i d \" :  1 0 3 2 5 9 ,  \" n a m e \" :  \" N i k i e  Z a m b o \" ,  \" o r d e r \" :  8 1 } ,  { \" c a s t _ i d \" :  1 0 2 ,  \" c h a r a c t e r \" :  \" A m b i e n t  R o o m  T e c h  /  T r o u p e \" ,  \" c r e d i t _ i d \" :  \" 5 2 f e 4 8 0 1 9 2 5 1 4 1 6 c 7 5 0 a c b 6 f \" ,  \" g e n d e r \" :  1 ,  \" i d \" :  4 2 2 8 6 ,  \" n a m e \" :  \" J u l e n e  R e n e e \" ,  \" o r d e r \" :  8 2 } ] JamesCameron'"
      ]
     },
     "execution_count": 76,
     "metadata": {},
     "output_type": "execute_result"
    }
   ],
   "source": [
    "new_df['tags'][0]"
   ]
  },
  {
   "cell_type": "code",
   "execution_count": 77,
   "id": "7995c9e9",
   "metadata": {},
   "outputs": [
    {
     "name": "stderr",
     "output_type": "stream",
     "text": [
      "C:\\Users\\KIIT\\AppData\\Local\\Temp\\ipykernel_15244\\3214958533.py:1: SettingWithCopyWarning: \n",
      "A value is trying to be set on a copy of a slice from a DataFrame.\n",
      "Try using .loc[row_indexer,col_indexer] = value instead\n",
      "\n",
      "See the caveats in the documentation: https://pandas.pydata.org/pandas-docs/stable/user_guide/indexing.html#returning-a-view-versus-a-copy\n",
      "  new_df['tags'] = new_df['tags'].apply(lambda x:x.lower())\n"
     ]
    }
   ],
   "source": [
    "new_df['tags'] = new_df['tags'].apply(lambda x:x.lower())"
   ]
  },
  {
   "cell_type": "code",
   "execution_count": 78,
   "id": "1c393af8",
   "metadata": {},
   "outputs": [
    {
     "data": {
      "text/html": [
       "<div>\n",
       "<style scoped>\n",
       "    .dataframe tbody tr th:only-of-type {\n",
       "        vertical-align: middle;\n",
       "    }\n",
       "\n",
       "    .dataframe tbody tr th {\n",
       "        vertical-align: top;\n",
       "    }\n",
       "\n",
       "    .dataframe thead th {\n",
       "        text-align: right;\n",
       "    }\n",
       "</style>\n",
       "<table border=\"1\" class=\"dataframe\">\n",
       "  <thead>\n",
       "    <tr style=\"text-align: right;\">\n",
       "      <th></th>\n",
       "      <th>movie_id</th>\n",
       "      <th>title</th>\n",
       "      <th>tags</th>\n",
       "    </tr>\n",
       "  </thead>\n",
       "  <tbody>\n",
       "    <tr>\n",
       "      <th>0</th>\n",
       "      <td>19995</td>\n",
       "      <td>Avatar</td>\n",
       "      <td>in the 22nd century, a paraplegic marine is di...</td>\n",
       "    </tr>\n",
       "    <tr>\n",
       "      <th>1</th>\n",
       "      <td>285</td>\n",
       "      <td>Pirates of the Caribbean: At World's End</td>\n",
       "      <td>captain barbossa, long believed to be dead, ha...</td>\n",
       "    </tr>\n",
       "    <tr>\n",
       "      <th>2</th>\n",
       "      <td>206647</td>\n",
       "      <td>Spectre</td>\n",
       "      <td>a cryptic message from bond’s past sends him o...</td>\n",
       "    </tr>\n",
       "    <tr>\n",
       "      <th>3</th>\n",
       "      <td>49026</td>\n",
       "      <td>The Dark Knight Rises</td>\n",
       "      <td>following the death of district attorney harve...</td>\n",
       "    </tr>\n",
       "    <tr>\n",
       "      <th>4</th>\n",
       "      <td>49529</td>\n",
       "      <td>John Carter</td>\n",
       "      <td>john carter is a war-weary, former military ca...</td>\n",
       "    </tr>\n",
       "  </tbody>\n",
       "</table>\n",
       "</div>"
      ],
      "text/plain": [
       "   movie_id                                     title  \\\n",
       "0     19995                                    Avatar   \n",
       "1       285  Pirates of the Caribbean: At World's End   \n",
       "2    206647                                   Spectre   \n",
       "3     49026                     The Dark Knight Rises   \n",
       "4     49529                               John Carter   \n",
       "\n",
       "                                                tags  \n",
       "0  in the 22nd century, a paraplegic marine is di...  \n",
       "1  captain barbossa, long believed to be dead, ha...  \n",
       "2  a cryptic message from bond’s past sends him o...  \n",
       "3  following the death of district attorney harve...  \n",
       "4  john carter is a war-weary, former military ca...  "
      ]
     },
     "execution_count": 78,
     "metadata": {},
     "output_type": "execute_result"
    }
   ],
   "source": [
    "new_df.head()"
   ]
  },
  {
   "cell_type": "code",
   "execution_count": 90,
   "id": "a8323acf",
   "metadata": {},
   "outputs": [],
   "source": [
    "from nltk.stem.porter import PorterStemmer\n",
    "ps = PorterStemmer()"
   ]
  },
  {
   "cell_type": "code",
   "execution_count": 91,
   "id": "d8119aff",
   "metadata": {},
   "outputs": [],
   "source": [
    "def stem(text):\n",
    "    y=[]\n",
    "    for i in text.split():\n",
    "        y.append(ps.stem(i))\n",
    "    return \" \".join(y)"
   ]
  },
  {
   "cell_type": "code",
   "execution_count": 92,
   "id": "359e9563",
   "metadata": {},
   "outputs": [
    {
     "name": "stderr",
     "output_type": "stream",
     "text": [
      "C:\\Users\\KIIT\\AppData\\Local\\Temp\\ipykernel_15244\\3213734980.py:1: SettingWithCopyWarning: \n",
      "A value is trying to be set on a copy of a slice from a DataFrame.\n",
      "Try using .loc[row_indexer,col_indexer] = value instead\n",
      "\n",
      "See the caveats in the documentation: https://pandas.pydata.org/pandas-docs/stable/user_guide/indexing.html#returning-a-view-versus-a-copy\n",
      "  new_df['tags'] = new_df['tags'].apply(stem)\n"
     ]
    }
   ],
   "source": [
    "new_df['tags'] = new_df['tags'].apply(stem)"
   ]
  },
  {
   "cell_type": "code",
   "execution_count": 93,
   "id": "159eadb6",
   "metadata": {},
   "outputs": [],
   "source": [
    "from sklearn.feature_extraction.text import CountVectorizer\n",
    "cv = CountVectorizer(max_features=5000,stop_words='english')"
   ]
  },
  {
   "cell_type": "code",
   "execution_count": 94,
   "id": "32e8d927",
   "metadata": {},
   "outputs": [],
   "source": [
    "vectors = cv.fit_transform(new_df['tags']).toarray()"
   ]
  },
  {
   "cell_type": "code",
   "execution_count": 95,
   "id": "4d1fc45b",
   "metadata": {},
   "outputs": [
    {
     "data": {
      "text/plain": [
       "array([0, 0, 0, ..., 0, 0, 0], dtype=int64)"
      ]
     },
     "execution_count": 95,
     "metadata": {},
     "output_type": "execute_result"
    }
   ],
   "source": [
    "vectors[0]"
   ]
  },
  {
   "cell_type": "code",
   "execution_count": 98,
   "id": "5d0c7bf2",
   "metadata": {},
   "outputs": [],
   "source": [
    "from sklearn.metrics.pairwise import cosine_similarity"
   ]
  },
  {
   "cell_type": "code",
   "execution_count": 100,
   "id": "f8b1dbfe",
   "metadata": {},
   "outputs": [],
   "source": [
    "similarity = cosine_similarity(vectors)"
   ]
  },
  {
   "cell_type": "code",
   "execution_count": 103,
   "id": "6f49033a",
   "metadata": {},
   "outputs": [
    {
     "data": {
      "text/plain": [
       "[(1216, 0.28102505044048826),\n",
       " (539, 0.2657423679108717),\n",
       " (3730, 0.26401000024164994),\n",
       " (507, 0.26130213378560535),\n",
       " (582, 0.2484013136974297)]"
      ]
     },
     "execution_count": 103,
     "metadata": {},
     "output_type": "execute_result"
    }
   ],
   "source": [
    "sorted(list(enumerate(similarity[0])),reverse=True,key = lambda x:x[1])[1:6]"
   ]
  },
  {
   "cell_type": "code",
   "execution_count": 116,
   "id": "ca4354b9",
   "metadata": {},
   "outputs": [],
   "source": [
    "def recommend(movie):\n",
    "    movie_index = new_df[new_df['title']==movie].index[0]\n",
    "    distances = similarity[movie_index]\n",
    "    movies_list = sorted(list(enumerate(distances)),reverse=True,key = lambda x:x[1])[1:6]\n",
    "    for i in movies_list:\n",
    "        print(new_df.iloc[i[0]].title)\n",
    "        \n",
    "    "
   ]
  },
  {
   "cell_type": "code",
   "execution_count": 117,
   "id": "8d18a169",
   "metadata": {},
   "outputs": [
    {
     "name": "stdout",
     "output_type": "stream",
     "text": [
      "The Dark Knight\n",
      "Batman\n",
      "Batman\n",
      "10th & Wolf\n",
      "Synecdoche, New York\n"
     ]
    }
   ],
   "source": [
    "recommend('Batman Begins')"
   ]
  },
  {
   "cell_type": "code",
   "execution_count": 118,
   "id": "3af318a3",
   "metadata": {},
   "outputs": [],
   "source": [
    "import pickle"
   ]
  },
  {
   "cell_type": "code",
   "execution_count": 119,
   "id": "0eecb14e",
   "metadata": {},
   "outputs": [],
   "source": [
    "pickle.dump(new_df,open('movies.pkl','wb'))"
   ]
  },
  {
   "cell_type": "code",
   "execution_count": 120,
   "id": "3b7ed88b",
   "metadata": {},
   "outputs": [],
   "source": [
    "pickle.dump(new_df.to_dict(),open('movie_dict.pkl','wb'))"
   ]
  },
  {
   "cell_type": "code",
   "execution_count": 121,
   "id": "933c2993",
   "metadata": {},
   "outputs": [],
   "source": [
    "pickle.dump(similarity,open('similarity.pkl','wb'))"
   ]
  },
  {
   "cell_type": "code",
   "execution_count": null,
   "id": "272bdf83",
   "metadata": {},
   "outputs": [],
   "source": []
  }
 ],
 "metadata": {
  "kernelspec": {
   "display_name": "Python 3 (ipykernel)",
   "language": "python",
   "name": "python3"
  },
  "language_info": {
   "codemirror_mode": {
    "name": "ipython",
    "version": 3
   },
   "file_extension": ".py",
   "mimetype": "text/x-python",
   "name": "python",
   "nbconvert_exporter": "python",
   "pygments_lexer": "ipython3",
   "version": "3.10.9"
  }
 },
 "nbformat": 4,
 "nbformat_minor": 5
}
